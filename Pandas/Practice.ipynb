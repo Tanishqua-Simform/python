{
 "cells": [
  {
   "cell_type": "markdown",
   "id": "807d46f0-7ef9-4c96-a73f-8fca300878fb",
   "metadata": {},
   "source": [
    "### Date - 27th Feb, 2025"
   ]
  },
  {
   "cell_type": "markdown",
   "id": "61373135-9afb-4af1-8075-476752edd56c",
   "metadata": {},
   "source": [
    "# 1. Loading Data"
   ]
  },
  {
   "cell_type": "code",
   "execution_count": 4,
   "id": "a8d91ee2-e8d5-4ad9-8ff2-e9c1b8919155",
   "metadata": {},
   "outputs": [],
   "source": [
    "import pandas as pd"
   ]
  },
  {
   "cell_type": "code",
   "execution_count": 5,
   "id": "24b2a95f-b37c-4364-a08a-c53d2902a6de",
   "metadata": {},
   "outputs": [],
   "source": [
    "data = {\n",
    "    'Name': ['Rajesh','Meetu', 'Lamha','Tanishqua', 'Soham'],\n",
    "    'Age': [56, 49, 25, 21, 21],\n",
    "    'Gender': ['Male', 'Female', 'Female', 'Female', 'Male'],\n",
    "    'City': ['Ahmedabad', 'Ahmedabad', 'Pune', 'Ahmedabad', 'Gandhinagar'],\n",
    "    'Hobby': ['Driving', 'Cooking', 'Dancing', 'Sleeping', 'Gaming']\n",
    "}"
   ]
  },
  {
   "cell_type": "code",
   "execution_count": 155,
   "id": "8e8adf2c-f3a7-4f76-b4a7-006127776216",
   "metadata": {},
   "outputs": [],
   "source": [
    "df = pd.DataFrame(data)"
   ]
  },
  {
   "cell_type": "markdown",
   "id": "c9c7364a-565f-4702-b898-88a306bafa84",
   "metadata": {},
   "source": [
    "## Viewing Data"
   ]
  },
  {
   "cell_type": "code",
   "execution_count": 11,
   "id": "d1c2ece5-9d4c-4b9e-b236-4d876c611fd4",
   "metadata": {},
   "outputs": [
    {
     "data": {
      "text/html": [
       "<div>\n",
       "<style scoped>\n",
       "    .dataframe tbody tr th:only-of-type {\n",
       "        vertical-align: middle;\n",
       "    }\n",
       "\n",
       "    .dataframe tbody tr th {\n",
       "        vertical-align: top;\n",
       "    }\n",
       "\n",
       "    .dataframe thead th {\n",
       "        text-align: right;\n",
       "    }\n",
       "</style>\n",
       "<table border=\"1\" class=\"dataframe\">\n",
       "  <thead>\n",
       "    <tr style=\"text-align: right;\">\n",
       "      <th></th>\n",
       "      <th>Name</th>\n",
       "      <th>Age</th>\n",
       "      <th>Gender</th>\n",
       "      <th>City</th>\n",
       "      <th>Hobby</th>\n",
       "    </tr>\n",
       "  </thead>\n",
       "  <tbody>\n",
       "    <tr>\n",
       "      <th>0</th>\n",
       "      <td>Rajesh</td>\n",
       "      <td>56</td>\n",
       "      <td>Male</td>\n",
       "      <td>Ahmedabad</td>\n",
       "      <td>Driving</td>\n",
       "    </tr>\n",
       "    <tr>\n",
       "      <th>1</th>\n",
       "      <td>Meetu</td>\n",
       "      <td>49</td>\n",
       "      <td>Female</td>\n",
       "      <td>Ahmedabad</td>\n",
       "      <td>Cooking</td>\n",
       "    </tr>\n",
       "    <tr>\n",
       "      <th>2</th>\n",
       "      <td>Lamha</td>\n",
       "      <td>25</td>\n",
       "      <td>Female</td>\n",
       "      <td>Pune</td>\n",
       "      <td>Dancing</td>\n",
       "    </tr>\n",
       "    <tr>\n",
       "      <th>3</th>\n",
       "      <td>Tanishqua</td>\n",
       "      <td>21</td>\n",
       "      <td>Female</td>\n",
       "      <td>Ahmedabad</td>\n",
       "      <td>Sleeping</td>\n",
       "    </tr>\n",
       "    <tr>\n",
       "      <th>4</th>\n",
       "      <td>Soham</td>\n",
       "      <td>21</td>\n",
       "      <td>Male</td>\n",
       "      <td>Gandhinagar</td>\n",
       "      <td>Gaming</td>\n",
       "    </tr>\n",
       "  </tbody>\n",
       "</table>\n",
       "</div>"
      ],
      "text/plain": [
       "        Name  Age  Gender         City     Hobby\n",
       "0     Rajesh   56    Male    Ahmedabad   Driving\n",
       "1      Meetu   49  Female    Ahmedabad   Cooking\n",
       "2      Lamha   25  Female         Pune   Dancing\n",
       "3  Tanishqua   21  Female    Ahmedabad  Sleeping\n",
       "4      Soham   21    Male  Gandhinagar    Gaming"
      ]
     },
     "execution_count": 11,
     "metadata": {},
     "output_type": "execute_result"
    }
   ],
   "source": [
    "df"
   ]
  },
  {
   "cell_type": "code",
   "execution_count": 12,
   "id": "41a961cc-96f3-4498-9fcf-666018402342",
   "metadata": {},
   "outputs": [
    {
     "data": {
      "text/html": [
       "<div>\n",
       "<style scoped>\n",
       "    .dataframe tbody tr th:only-of-type {\n",
       "        vertical-align: middle;\n",
       "    }\n",
       "\n",
       "    .dataframe tbody tr th {\n",
       "        vertical-align: top;\n",
       "    }\n",
       "\n",
       "    .dataframe thead th {\n",
       "        text-align: right;\n",
       "    }\n",
       "</style>\n",
       "<table border=\"1\" class=\"dataframe\">\n",
       "  <thead>\n",
       "    <tr style=\"text-align: right;\">\n",
       "      <th></th>\n",
       "      <th>Name</th>\n",
       "      <th>Age</th>\n",
       "      <th>Gender</th>\n",
       "      <th>City</th>\n",
       "      <th>Hobby</th>\n",
       "    </tr>\n",
       "  </thead>\n",
       "  <tbody>\n",
       "    <tr>\n",
       "      <th>0</th>\n",
       "      <td>Rajesh</td>\n",
       "      <td>56</td>\n",
       "      <td>Male</td>\n",
       "      <td>Ahmedabad</td>\n",
       "      <td>Driving</td>\n",
       "    </tr>\n",
       "    <tr>\n",
       "      <th>1</th>\n",
       "      <td>Meetu</td>\n",
       "      <td>49</td>\n",
       "      <td>Female</td>\n",
       "      <td>Ahmedabad</td>\n",
       "      <td>Cooking</td>\n",
       "    </tr>\n",
       "  </tbody>\n",
       "</table>\n",
       "</div>"
      ],
      "text/plain": [
       "     Name  Age  Gender       City    Hobby\n",
       "0  Rajesh   56    Male  Ahmedabad  Driving\n",
       "1   Meetu   49  Female  Ahmedabad  Cooking"
      ]
     },
     "execution_count": 12,
     "metadata": {},
     "output_type": "execute_result"
    }
   ],
   "source": [
    "# df.head() -> Top 5 rows\n",
    "df.head(2)"
   ]
  },
  {
   "cell_type": "code",
   "execution_count": 13,
   "id": "2c933c93-2fd8-48b0-9513-24bc656cf597",
   "metadata": {},
   "outputs": [
    {
     "data": {
      "text/html": [
       "<div>\n",
       "<style scoped>\n",
       "    .dataframe tbody tr th:only-of-type {\n",
       "        vertical-align: middle;\n",
       "    }\n",
       "\n",
       "    .dataframe tbody tr th {\n",
       "        vertical-align: top;\n",
       "    }\n",
       "\n",
       "    .dataframe thead th {\n",
       "        text-align: right;\n",
       "    }\n",
       "</style>\n",
       "<table border=\"1\" class=\"dataframe\">\n",
       "  <thead>\n",
       "    <tr style=\"text-align: right;\">\n",
       "      <th></th>\n",
       "      <th>Name</th>\n",
       "      <th>Age</th>\n",
       "      <th>Gender</th>\n",
       "      <th>City</th>\n",
       "      <th>Hobby</th>\n",
       "    </tr>\n",
       "  </thead>\n",
       "  <tbody>\n",
       "    <tr>\n",
       "      <th>3</th>\n",
       "      <td>Tanishqua</td>\n",
       "      <td>21</td>\n",
       "      <td>Female</td>\n",
       "      <td>Ahmedabad</td>\n",
       "      <td>Sleeping</td>\n",
       "    </tr>\n",
       "    <tr>\n",
       "      <th>4</th>\n",
       "      <td>Soham</td>\n",
       "      <td>21</td>\n",
       "      <td>Male</td>\n",
       "      <td>Gandhinagar</td>\n",
       "      <td>Gaming</td>\n",
       "    </tr>\n",
       "  </tbody>\n",
       "</table>\n",
       "</div>"
      ],
      "text/plain": [
       "        Name  Age  Gender         City     Hobby\n",
       "3  Tanishqua   21  Female    Ahmedabad  Sleeping\n",
       "4      Soham   21    Male  Gandhinagar    Gaming"
      ]
     },
     "execution_count": 13,
     "metadata": {},
     "output_type": "execute_result"
    }
   ],
   "source": [
    "# df.tail() -> Bottom 5 rows\n",
    "df.tail(2)"
   ]
  },
  {
   "cell_type": "markdown",
   "id": "1846a0a0-7a00-4857-ac05-d5c410c7b3b2",
   "metadata": {},
   "source": [
    "# 2. DataFrames and Series\n",
    "### Selecting Rows and Columns\n",
    "##### By position use iloc method \n",
    "##### By Label use loc method\n",
    "##### For whole columns use df['columnName']"
   ]
  },
  {
   "cell_type": "code",
   "execution_count": 131,
   "id": "099e8f67-b3ae-4f61-bf95-2f82c5fcc82d",
   "metadata": {},
   "outputs": [
    {
     "data": {
      "text/plain": [
       "Name        lamha\n",
       "Age            25\n",
       "Gender     Female\n",
       "City         Pune\n",
       "Hobby     Dancing\n",
       "Name: 2, dtype: object"
      ]
     },
     "execution_count": 131,
     "metadata": {},
     "output_type": "execute_result"
    }
   ],
   "source": [
    "df.iloc[2] # Output is series"
   ]
  },
  {
   "cell_type": "code",
   "execution_count": 38,
   "id": "77cdd581-cc9f-4065-82ed-bac21ac36f44",
   "metadata": {},
   "outputs": [
    {
     "data": {
      "text/plain": [
       "pandas.core.series.Series"
      ]
     },
     "execution_count": 38,
     "metadata": {},
     "output_type": "execute_result"
    }
   ],
   "source": [
    "type(df.iloc[2]) # Output is series"
   ]
  },
  {
   "cell_type": "code",
   "execution_count": 39,
   "id": "1f58c0b6-b876-485c-ba4b-94b9a781ac15",
   "metadata": {},
   "outputs": [
    {
     "data": {
      "text/html": [
       "<div>\n",
       "<style scoped>\n",
       "    .dataframe tbody tr th:only-of-type {\n",
       "        vertical-align: middle;\n",
       "    }\n",
       "\n",
       "    .dataframe tbody tr th {\n",
       "        vertical-align: top;\n",
       "    }\n",
       "\n",
       "    .dataframe thead th {\n",
       "        text-align: right;\n",
       "    }\n",
       "</style>\n",
       "<table border=\"1\" class=\"dataframe\">\n",
       "  <thead>\n",
       "    <tr style=\"text-align: right;\">\n",
       "      <th></th>\n",
       "      <th>Name</th>\n",
       "      <th>Age</th>\n",
       "      <th>Gender</th>\n",
       "      <th>City</th>\n",
       "      <th>Hobby</th>\n",
       "    </tr>\n",
       "  </thead>\n",
       "  <tbody>\n",
       "    <tr>\n",
       "      <th>3</th>\n",
       "      <td>Tanishqua</td>\n",
       "      <td>21</td>\n",
       "      <td>Female</td>\n",
       "      <td>Ahmedabad</td>\n",
       "      <td>Sleeping</td>\n",
       "    </tr>\n",
       "    <tr>\n",
       "      <th>4</th>\n",
       "      <td>Soham</td>\n",
       "      <td>21</td>\n",
       "      <td>Male</td>\n",
       "      <td>Gandhinagar</td>\n",
       "      <td>Gaming</td>\n",
       "    </tr>\n",
       "  </tbody>\n",
       "</table>\n",
       "</div>"
      ],
      "text/plain": [
       "        Name  Age  Gender         City     Hobby\n",
       "3  Tanishqua   21  Female    Ahmedabad  Sleeping\n",
       "4      Soham   21    Male  Gandhinagar    Gaming"
      ]
     },
     "execution_count": 39,
     "metadata": {},
     "output_type": "execute_result"
    }
   ],
   "source": [
    "df.iloc[[3,4]] # For multiple rows "
   ]
  },
  {
   "cell_type": "code",
   "execution_count": 40,
   "id": "c8463c53-6ac2-40c5-8be7-03687bcc7418",
   "metadata": {},
   "outputs": [
    {
     "data": {
      "text/plain": [
       "pandas.core.frame.DataFrame"
      ]
     },
     "execution_count": 40,
     "metadata": {},
     "output_type": "execute_result"
    }
   ],
   "source": [
    "type(df.iloc[[3,4]]) # Output is Dataframe"
   ]
  },
  {
   "cell_type": "code",
   "execution_count": 41,
   "id": "5009fc43-a02c-4217-beb3-34fbe386b54a",
   "metadata": {},
   "outputs": [
    {
     "data": {
      "text/plain": [
       "'Sleeping'"
      ]
     },
     "execution_count": 41,
     "metadata": {},
     "output_type": "execute_result"
    }
   ],
   "source": [
    "#df.iloc[3, 'Hobby'] -> Gives error because column cannot be accessed by name rather position\n",
    "df.iloc[3,4]"
   ]
  },
  {
   "cell_type": "code",
   "execution_count": 42,
   "id": "5742ab88-515a-4088-8c89-409acda5fb8d",
   "metadata": {},
   "outputs": [
    {
     "data": {
      "text/html": [
       "<div>\n",
       "<style scoped>\n",
       "    .dataframe tbody tr th:only-of-type {\n",
       "        vertical-align: middle;\n",
       "    }\n",
       "\n",
       "    .dataframe tbody tr th {\n",
       "        vertical-align: top;\n",
       "    }\n",
       "\n",
       "    .dataframe thead th {\n",
       "        text-align: right;\n",
       "    }\n",
       "</style>\n",
       "<table border=\"1\" class=\"dataframe\">\n",
       "  <thead>\n",
       "    <tr style=\"text-align: right;\">\n",
       "      <th></th>\n",
       "      <th>Gender</th>\n",
       "      <th>City</th>\n",
       "      <th>Hobby</th>\n",
       "    </tr>\n",
       "  </thead>\n",
       "  <tbody>\n",
       "    <tr>\n",
       "      <th>3</th>\n",
       "      <td>Female</td>\n",
       "      <td>Ahmedabad</td>\n",
       "      <td>Sleeping</td>\n",
       "    </tr>\n",
       "    <tr>\n",
       "      <th>4</th>\n",
       "      <td>Male</td>\n",
       "      <td>Gandhinagar</td>\n",
       "      <td>Gaming</td>\n",
       "    </tr>\n",
       "  </tbody>\n",
       "</table>\n",
       "</div>"
      ],
      "text/plain": [
       "   Gender         City     Hobby\n",
       "3  Female    Ahmedabad  Sleeping\n",
       "4    Male  Gandhinagar    Gaming"
      ]
     },
     "execution_count": 42,
     "metadata": {},
     "output_type": "execute_result"
    }
   ],
   "source": [
    "df.iloc[[3,4], [2,3,4]] # For multiple coulumns of multiple rows"
   ]
  },
  {
   "cell_type": "code",
   "execution_count": 47,
   "id": "cb326baf-469a-4f4b-b1f3-624ac69baf38",
   "metadata": {},
   "outputs": [
    {
     "data": {
      "text/html": [
       "<div>\n",
       "<style scoped>\n",
       "    .dataframe tbody tr th:only-of-type {\n",
       "        vertical-align: middle;\n",
       "    }\n",
       "\n",
       "    .dataframe tbody tr th {\n",
       "        vertical-align: top;\n",
       "    }\n",
       "\n",
       "    .dataframe thead th {\n",
       "        text-align: right;\n",
       "    }\n",
       "</style>\n",
       "<table border=\"1\" class=\"dataframe\">\n",
       "  <thead>\n",
       "    <tr style=\"text-align: right;\">\n",
       "      <th></th>\n",
       "      <th>Name</th>\n",
       "      <th>Age</th>\n",
       "    </tr>\n",
       "  </thead>\n",
       "  <tbody>\n",
       "    <tr>\n",
       "      <th>2</th>\n",
       "      <td>Lamha</td>\n",
       "      <td>25</td>\n",
       "    </tr>\n",
       "    <tr>\n",
       "      <th>3</th>\n",
       "      <td>Tanishqua</td>\n",
       "      <td>21</td>\n",
       "    </tr>\n",
       "    <tr>\n",
       "      <th>4</th>\n",
       "      <td>Soham</td>\n",
       "      <td>21</td>\n",
       "    </tr>\n",
       "  </tbody>\n",
       "</table>\n",
       "</div>"
      ],
      "text/plain": [
       "        Name  Age\n",
       "2      Lamha   25\n",
       "3  Tanishqua   21\n",
       "4      Soham   21"
      ]
     },
     "execution_count": 47,
     "metadata": {},
     "output_type": "execute_result"
    }
   ],
   "source": [
    "df.loc[[2,3,4], ['Name', 'Age']] # Accessing columns by name"
   ]
  },
  {
   "cell_type": "code",
   "execution_count": 52,
   "id": "646a1cfe-ea1a-47ec-abfc-a9c8286b20d2",
   "metadata": {},
   "outputs": [
    {
     "data": {
      "text/plain": [
       "0       Rajesh\n",
       "1        Meetu\n",
       "2        Lamha\n",
       "3    Tanishqua\n",
       "4        Soham\n",
       "Name: Name, dtype: object"
      ]
     },
     "execution_count": 52,
     "metadata": {},
     "output_type": "execute_result"
    }
   ],
   "source": [
    "df['Name']"
   ]
  },
  {
   "cell_type": "markdown",
   "id": "ff43aa65-732e-4e8f-9ccf-9ed5b6bb582a",
   "metadata": {},
   "source": [
    "# 3. Indexing "
   ]
  },
  {
   "cell_type": "code",
   "execution_count": 55,
   "id": "7445a7db-b2f7-4d77-9830-58285e842865",
   "metadata": {},
   "outputs": [],
   "source": [
    "df.set_index('Name', inplace=True)"
   ]
  },
  {
   "cell_type": "code",
   "execution_count": 56,
   "id": "d82e7ce8-0fee-4ce3-bfe6-602b426be171",
   "metadata": {},
   "outputs": [
    {
     "data": {
      "text/html": [
       "<div>\n",
       "<style scoped>\n",
       "    .dataframe tbody tr th:only-of-type {\n",
       "        vertical-align: middle;\n",
       "    }\n",
       "\n",
       "    .dataframe tbody tr th {\n",
       "        vertical-align: top;\n",
       "    }\n",
       "\n",
       "    .dataframe thead th {\n",
       "        text-align: right;\n",
       "    }\n",
       "</style>\n",
       "<table border=\"1\" class=\"dataframe\">\n",
       "  <thead>\n",
       "    <tr style=\"text-align: right;\">\n",
       "      <th></th>\n",
       "      <th>Age</th>\n",
       "      <th>Gender</th>\n",
       "      <th>City</th>\n",
       "      <th>Hobby</th>\n",
       "    </tr>\n",
       "    <tr>\n",
       "      <th>Name</th>\n",
       "      <th></th>\n",
       "      <th></th>\n",
       "      <th></th>\n",
       "      <th></th>\n",
       "    </tr>\n",
       "  </thead>\n",
       "  <tbody>\n",
       "    <tr>\n",
       "      <th>Rajesh</th>\n",
       "      <td>56</td>\n",
       "      <td>Male</td>\n",
       "      <td>Ahmedabad</td>\n",
       "      <td>Driving</td>\n",
       "    </tr>\n",
       "    <tr>\n",
       "      <th>Meetu</th>\n",
       "      <td>49</td>\n",
       "      <td>Female</td>\n",
       "      <td>Ahmedabad</td>\n",
       "      <td>Cooking</td>\n",
       "    </tr>\n",
       "    <tr>\n",
       "      <th>Lamha</th>\n",
       "      <td>25</td>\n",
       "      <td>Female</td>\n",
       "      <td>Pune</td>\n",
       "      <td>Dancing</td>\n",
       "    </tr>\n",
       "    <tr>\n",
       "      <th>Tanishqua</th>\n",
       "      <td>21</td>\n",
       "      <td>Female</td>\n",
       "      <td>Ahmedabad</td>\n",
       "      <td>Sleeping</td>\n",
       "    </tr>\n",
       "    <tr>\n",
       "      <th>Soham</th>\n",
       "      <td>21</td>\n",
       "      <td>Male</td>\n",
       "      <td>Gandhinagar</td>\n",
       "      <td>Gaming</td>\n",
       "    </tr>\n",
       "  </tbody>\n",
       "</table>\n",
       "</div>"
      ],
      "text/plain": [
       "           Age  Gender         City     Hobby\n",
       "Name                                         \n",
       "Rajesh      56    Male    Ahmedabad   Driving\n",
       "Meetu       49  Female    Ahmedabad   Cooking\n",
       "Lamha       25  Female         Pune   Dancing\n",
       "Tanishqua   21  Female    Ahmedabad  Sleeping\n",
       "Soham       21    Male  Gandhinagar    Gaming"
      ]
     },
     "execution_count": 56,
     "metadata": {},
     "output_type": "execute_result"
    }
   ],
   "source": [
    "df"
   ]
  },
  {
   "cell_type": "code",
   "execution_count": 58,
   "id": "66181404-42fd-46c5-91c9-500358274f7e",
   "metadata": {},
   "outputs": [
    {
     "data": {
      "text/plain": [
       "Age            25\n",
       "Gender     Female\n",
       "City         Pune\n",
       "Hobby     Dancing\n",
       "Name: Lamha, dtype: object"
      ]
     },
     "execution_count": 58,
     "metadata": {},
     "output_type": "execute_result"
    }
   ],
   "source": [
    "df.loc['Lamha'] # Can access by index value"
   ]
  },
  {
   "cell_type": "code",
   "execution_count": 60,
   "id": "052f50f9-1f4c-4536-950e-264555bd676a",
   "metadata": {},
   "outputs": [
    {
     "data": {
      "text/plain": [
       "Age            25\n",
       "Gender     Female\n",
       "City         Pune\n",
       "Hobby     Dancing\n",
       "Name: Lamha, dtype: object"
      ]
     },
     "execution_count": 60,
     "metadata": {},
     "output_type": "execute_result"
    }
   ],
   "source": [
    "df.iloc[2] # Can access by index position"
   ]
  },
  {
   "cell_type": "code",
   "execution_count": 61,
   "id": "cb28fb2d-8653-4ba5-a54b-500f0fe1615b",
   "metadata": {},
   "outputs": [
    {
     "data": {
      "text/html": [
       "<div>\n",
       "<style scoped>\n",
       "    .dataframe tbody tr th:only-of-type {\n",
       "        vertical-align: middle;\n",
       "    }\n",
       "\n",
       "    .dataframe tbody tr th {\n",
       "        vertical-align: top;\n",
       "    }\n",
       "\n",
       "    .dataframe thead th {\n",
       "        text-align: right;\n",
       "    }\n",
       "</style>\n",
       "<table border=\"1\" class=\"dataframe\">\n",
       "  <thead>\n",
       "    <tr style=\"text-align: right;\">\n",
       "      <th></th>\n",
       "      <th>Age</th>\n",
       "      <th>Gender</th>\n",
       "      <th>City</th>\n",
       "      <th>Hobby</th>\n",
       "    </tr>\n",
       "    <tr>\n",
       "      <th>Name</th>\n",
       "      <th></th>\n",
       "      <th></th>\n",
       "      <th></th>\n",
       "      <th></th>\n",
       "    </tr>\n",
       "  </thead>\n",
       "  <tbody>\n",
       "    <tr>\n",
       "      <th>Lamha</th>\n",
       "      <td>25</td>\n",
       "      <td>Female</td>\n",
       "      <td>Pune</td>\n",
       "      <td>Dancing</td>\n",
       "    </tr>\n",
       "    <tr>\n",
       "      <th>Meetu</th>\n",
       "      <td>49</td>\n",
       "      <td>Female</td>\n",
       "      <td>Ahmedabad</td>\n",
       "      <td>Cooking</td>\n",
       "    </tr>\n",
       "    <tr>\n",
       "      <th>Rajesh</th>\n",
       "      <td>56</td>\n",
       "      <td>Male</td>\n",
       "      <td>Ahmedabad</td>\n",
       "      <td>Driving</td>\n",
       "    </tr>\n",
       "    <tr>\n",
       "      <th>Soham</th>\n",
       "      <td>21</td>\n",
       "      <td>Male</td>\n",
       "      <td>Gandhinagar</td>\n",
       "      <td>Gaming</td>\n",
       "    </tr>\n",
       "    <tr>\n",
       "      <th>Tanishqua</th>\n",
       "      <td>21</td>\n",
       "      <td>Female</td>\n",
       "      <td>Ahmedabad</td>\n",
       "      <td>Sleeping</td>\n",
       "    </tr>\n",
       "  </tbody>\n",
       "</table>\n",
       "</div>"
      ],
      "text/plain": [
       "           Age  Gender         City     Hobby\n",
       "Name                                         \n",
       "Lamha       25  Female         Pune   Dancing\n",
       "Meetu       49  Female    Ahmedabad   Cooking\n",
       "Rajesh      56    Male    Ahmedabad   Driving\n",
       "Soham       21    Male  Gandhinagar    Gaming\n",
       "Tanishqua   21  Female    Ahmedabad  Sleeping"
      ]
     },
     "execution_count": 61,
     "metadata": {},
     "output_type": "execute_result"
    }
   ],
   "source": [
    "df.sort_index()"
   ]
  },
  {
   "cell_type": "code",
   "execution_count": 73,
   "id": "982dd871-f1a3-4497-bf55-bfdac36bc8cf",
   "metadata": {},
   "outputs": [],
   "source": [
    "df.reset_index(inplace=True)"
   ]
  },
  {
   "cell_type": "markdown",
   "id": "a25b41c4-d956-43ec-afd9-15e5d77f9930",
   "metadata": {},
   "source": [
    "# 4. Filtering Data\n",
    "### To get whole row use df[Filter]\n",
    "### To get specific columns use df.loc[Filter, columnNames]"
   ]
  },
  {
   "cell_type": "code",
   "execution_count": 75,
   "id": "2f904c1f-b9ab-4ff1-b9c3-927dbc53aaca",
   "metadata": {},
   "outputs": [],
   "source": [
    "young = df['Age'] < 30"
   ]
  },
  {
   "cell_type": "code",
   "execution_count": 76,
   "id": "81e5cb02-8cb2-47c7-b9ef-54ff0f4c460e",
   "metadata": {},
   "outputs": [
    {
     "data": {
      "text/html": [
       "<div>\n",
       "<style scoped>\n",
       "    .dataframe tbody tr th:only-of-type {\n",
       "        vertical-align: middle;\n",
       "    }\n",
       "\n",
       "    .dataframe tbody tr th {\n",
       "        vertical-align: top;\n",
       "    }\n",
       "\n",
       "    .dataframe thead th {\n",
       "        text-align: right;\n",
       "    }\n",
       "</style>\n",
       "<table border=\"1\" class=\"dataframe\">\n",
       "  <thead>\n",
       "    <tr style=\"text-align: right;\">\n",
       "      <th></th>\n",
       "      <th>Name</th>\n",
       "      <th>Age</th>\n",
       "      <th>Gender</th>\n",
       "      <th>City</th>\n",
       "      <th>Hobby</th>\n",
       "    </tr>\n",
       "  </thead>\n",
       "  <tbody>\n",
       "    <tr>\n",
       "      <th>2</th>\n",
       "      <td>Lamha</td>\n",
       "      <td>25</td>\n",
       "      <td>Female</td>\n",
       "      <td>Pune</td>\n",
       "      <td>Dancing</td>\n",
       "    </tr>\n",
       "    <tr>\n",
       "      <th>3</th>\n",
       "      <td>Tanishqua</td>\n",
       "      <td>21</td>\n",
       "      <td>Female</td>\n",
       "      <td>Ahmedabad</td>\n",
       "      <td>Sleeping</td>\n",
       "    </tr>\n",
       "    <tr>\n",
       "      <th>4</th>\n",
       "      <td>Soham</td>\n",
       "      <td>21</td>\n",
       "      <td>Male</td>\n",
       "      <td>Gandhinagar</td>\n",
       "      <td>Gaming</td>\n",
       "    </tr>\n",
       "  </tbody>\n",
       "</table>\n",
       "</div>"
      ],
      "text/plain": [
       "        Name  Age  Gender         City     Hobby\n",
       "2      Lamha   25  Female         Pune   Dancing\n",
       "3  Tanishqua   21  Female    Ahmedabad  Sleeping\n",
       "4      Soham   21    Male  Gandhinagar    Gaming"
      ]
     },
     "execution_count": 76,
     "metadata": {},
     "output_type": "execute_result"
    }
   ],
   "source": [
    "df[young]"
   ]
  },
  {
   "cell_type": "code",
   "execution_count": 77,
   "id": "52560b68-14d0-46be-b9f4-1d12751f203f",
   "metadata": {},
   "outputs": [],
   "source": [
    "male = df['Gender'] == 'Male'"
   ]
  },
  {
   "cell_type": "code",
   "execution_count": 89,
   "id": "dc001bc8-7a07-498c-be3f-1afd38007b9f",
   "metadata": {},
   "outputs": [
    {
     "data": {
      "text/html": [
       "<div>\n",
       "<style scoped>\n",
       "    .dataframe tbody tr th:only-of-type {\n",
       "        vertical-align: middle;\n",
       "    }\n",
       "\n",
       "    .dataframe tbody tr th {\n",
       "        vertical-align: top;\n",
       "    }\n",
       "\n",
       "    .dataframe thead th {\n",
       "        text-align: right;\n",
       "    }\n",
       "</style>\n",
       "<table border=\"1\" class=\"dataframe\">\n",
       "  <thead>\n",
       "    <tr style=\"text-align: right;\">\n",
       "      <th></th>\n",
       "      <th>Name</th>\n",
       "      <th>Gender</th>\n",
       "    </tr>\n",
       "  </thead>\n",
       "  <tbody>\n",
       "    <tr>\n",
       "      <th>0</th>\n",
       "      <td>Rajesh</td>\n",
       "      <td>Male</td>\n",
       "    </tr>\n",
       "    <tr>\n",
       "      <th>4</th>\n",
       "      <td>Soham</td>\n",
       "      <td>Male</td>\n",
       "    </tr>\n",
       "  </tbody>\n",
       "</table>\n",
       "</div>"
      ],
      "text/plain": [
       "     Name Gender\n",
       "0  Rajesh   Male\n",
       "4   Soham   Male"
      ]
     },
     "execution_count": 89,
     "metadata": {},
     "output_type": "execute_result"
    }
   ],
   "source": [
    "df.loc[male, ['Name', 'Gender']]"
   ]
  },
  {
   "cell_type": "code",
   "execution_count": 91,
   "id": "35d16ee6-a731-423d-94ee-4462c931fcb4",
   "metadata": {},
   "outputs": [],
   "source": [
    "old_female = (df['Age'] > 30) & (df['Gender'] == 'Female')"
   ]
  },
  {
   "cell_type": "code",
   "execution_count": 92,
   "id": "e2292f20-f1c2-4a78-9741-897321c09228",
   "metadata": {},
   "outputs": [
    {
     "data": {
      "text/html": [
       "<div>\n",
       "<style scoped>\n",
       "    .dataframe tbody tr th:only-of-type {\n",
       "        vertical-align: middle;\n",
       "    }\n",
       "\n",
       "    .dataframe tbody tr th {\n",
       "        vertical-align: top;\n",
       "    }\n",
       "\n",
       "    .dataframe thead th {\n",
       "        text-align: right;\n",
       "    }\n",
       "</style>\n",
       "<table border=\"1\" class=\"dataframe\">\n",
       "  <thead>\n",
       "    <tr style=\"text-align: right;\">\n",
       "      <th></th>\n",
       "      <th>Name</th>\n",
       "      <th>Age</th>\n",
       "      <th>Gender</th>\n",
       "      <th>City</th>\n",
       "      <th>Hobby</th>\n",
       "    </tr>\n",
       "  </thead>\n",
       "  <tbody>\n",
       "    <tr>\n",
       "      <th>1</th>\n",
       "      <td>Meetu</td>\n",
       "      <td>49</td>\n",
       "      <td>Female</td>\n",
       "      <td>Ahmedabad</td>\n",
       "      <td>Cooking</td>\n",
       "    </tr>\n",
       "  </tbody>\n",
       "</table>\n",
       "</div>"
      ],
      "text/plain": [
       "    Name  Age  Gender       City    Hobby\n",
       "1  Meetu   49  Female  Ahmedabad  Cooking"
      ]
     },
     "execution_count": 92,
     "metadata": {},
     "output_type": "execute_result"
    }
   ],
   "source": [
    "df[old_female]"
   ]
  },
  {
   "cell_type": "markdown",
   "id": "9880690f-72a5-4f07-ba34-9bc3fe8547f2",
   "metadata": {},
   "source": [
    "# 5. Updating Rows and Columns"
   ]
  },
  {
   "cell_type": "code",
   "execution_count": 104,
   "id": "039118f0-dbbb-4b17-a366-e37049337edc",
   "metadata": {},
   "outputs": [
    {
     "data": {
      "text/plain": [
       "Index(['Name', 'Age', 'Gender', 'City', 'Hobby'], dtype='object')"
      ]
     },
     "execution_count": 104,
     "metadata": {},
     "output_type": "execute_result"
    }
   ],
   "source": [
    "## Renaming Columns\n",
    "df.columns"
   ]
  },
  {
   "cell_type": "code",
   "execution_count": 105,
   "id": "dc3c1d42-81eb-44a1-8ae7-263e7a42d9ac",
   "metadata": {},
   "outputs": [],
   "source": [
    "df.columns = ['First Name', 'Age', 'Gender', 'City', 'Hobby']"
   ]
  },
  {
   "cell_type": "code",
   "execution_count": 106,
   "id": "3154909b-74de-4af4-9ea4-89081876d4a4",
   "metadata": {},
   "outputs": [
    {
     "data": {
      "text/html": [
       "<div>\n",
       "<style scoped>\n",
       "    .dataframe tbody tr th:only-of-type {\n",
       "        vertical-align: middle;\n",
       "    }\n",
       "\n",
       "    .dataframe tbody tr th {\n",
       "        vertical-align: top;\n",
       "    }\n",
       "\n",
       "    .dataframe thead th {\n",
       "        text-align: right;\n",
       "    }\n",
       "</style>\n",
       "<table border=\"1\" class=\"dataframe\">\n",
       "  <thead>\n",
       "    <tr style=\"text-align: right;\">\n",
       "      <th></th>\n",
       "      <th>FIRST NAME</th>\n",
       "      <th>AGE</th>\n",
       "      <th>GENDER</th>\n",
       "      <th>CITY</th>\n",
       "      <th>HOBBY</th>\n",
       "    </tr>\n",
       "  </thead>\n",
       "  <tbody>\n",
       "    <tr>\n",
       "      <th>0</th>\n",
       "      <td>Rajesh</td>\n",
       "      <td>56</td>\n",
       "      <td>Male</td>\n",
       "      <td>Ahmedabad</td>\n",
       "      <td>Driving</td>\n",
       "    </tr>\n",
       "    <tr>\n",
       "      <th>1</th>\n",
       "      <td>Meetu</td>\n",
       "      <td>49</td>\n",
       "      <td>Female</td>\n",
       "      <td>Ahmedabad</td>\n",
       "      <td>Cooking</td>\n",
       "    </tr>\n",
       "    <tr>\n",
       "      <th>2</th>\n",
       "      <td>Lamha</td>\n",
       "      <td>25</td>\n",
       "      <td>Female</td>\n",
       "      <td>Pune</td>\n",
       "      <td>Dancing</td>\n",
       "    </tr>\n",
       "    <tr>\n",
       "      <th>3</th>\n",
       "      <td>Tanishqua</td>\n",
       "      <td>21</td>\n",
       "      <td>Female</td>\n",
       "      <td>Ahmedabad</td>\n",
       "      <td>Sleeping</td>\n",
       "    </tr>\n",
       "    <tr>\n",
       "      <th>4</th>\n",
       "      <td>Soham</td>\n",
       "      <td>21</td>\n",
       "      <td>Male</td>\n",
       "      <td>Gandhinagar</td>\n",
       "      <td>Gaming</td>\n",
       "    </tr>\n",
       "  </tbody>\n",
       "</table>\n",
       "</div>"
      ],
      "text/plain": [
       "  FIRST NAME  AGE  GENDER         CITY     HOBBY\n",
       "0     Rajesh   56    Male    Ahmedabad   Driving\n",
       "1      Meetu   49  Female    Ahmedabad   Cooking\n",
       "2      Lamha   25  Female         Pune   Dancing\n",
       "3  Tanishqua   21  Female    Ahmedabad  Sleeping\n",
       "4      Soham   21    Male  Gandhinagar    Gaming"
      ]
     },
     "execution_count": 106,
     "metadata": {},
     "output_type": "execute_result"
    }
   ],
   "source": [
    "df.columns = [x.upper() for x in df.columns]\n",
    "df"
   ]
  },
  {
   "cell_type": "code",
   "execution_count": 107,
   "id": "63ad7818-e491-43e6-9414-c151786dc9d1",
   "metadata": {},
   "outputs": [
    {
     "data": {
      "text/html": [
       "<div>\n",
       "<style scoped>\n",
       "    .dataframe tbody tr th:only-of-type {\n",
       "        vertical-align: middle;\n",
       "    }\n",
       "\n",
       "    .dataframe tbody tr th {\n",
       "        vertical-align: top;\n",
       "    }\n",
       "\n",
       "    .dataframe thead th {\n",
       "        text-align: right;\n",
       "    }\n",
       "</style>\n",
       "<table border=\"1\" class=\"dataframe\">\n",
       "  <thead>\n",
       "    <tr style=\"text-align: right;\">\n",
       "      <th></th>\n",
       "      <th>FIRST_NAME</th>\n",
       "      <th>AGE</th>\n",
       "      <th>GENDER</th>\n",
       "      <th>CITY</th>\n",
       "      <th>HOBBY</th>\n",
       "    </tr>\n",
       "  </thead>\n",
       "  <tbody>\n",
       "    <tr>\n",
       "      <th>0</th>\n",
       "      <td>Rajesh</td>\n",
       "      <td>56</td>\n",
       "      <td>Male</td>\n",
       "      <td>Ahmedabad</td>\n",
       "      <td>Driving</td>\n",
       "    </tr>\n",
       "    <tr>\n",
       "      <th>1</th>\n",
       "      <td>Meetu</td>\n",
       "      <td>49</td>\n",
       "      <td>Female</td>\n",
       "      <td>Ahmedabad</td>\n",
       "      <td>Cooking</td>\n",
       "    </tr>\n",
       "    <tr>\n",
       "      <th>2</th>\n",
       "      <td>Lamha</td>\n",
       "      <td>25</td>\n",
       "      <td>Female</td>\n",
       "      <td>Pune</td>\n",
       "      <td>Dancing</td>\n",
       "    </tr>\n",
       "    <tr>\n",
       "      <th>3</th>\n",
       "      <td>Tanishqua</td>\n",
       "      <td>21</td>\n",
       "      <td>Female</td>\n",
       "      <td>Ahmedabad</td>\n",
       "      <td>Sleeping</td>\n",
       "    </tr>\n",
       "    <tr>\n",
       "      <th>4</th>\n",
       "      <td>Soham</td>\n",
       "      <td>21</td>\n",
       "      <td>Male</td>\n",
       "      <td>Gandhinagar</td>\n",
       "      <td>Gaming</td>\n",
       "    </tr>\n",
       "  </tbody>\n",
       "</table>\n",
       "</div>"
      ],
      "text/plain": [
       "  FIRST_NAME  AGE  GENDER         CITY     HOBBY\n",
       "0     Rajesh   56    Male    Ahmedabad   Driving\n",
       "1      Meetu   49  Female    Ahmedabad   Cooking\n",
       "2      Lamha   25  Female         Pune   Dancing\n",
       "3  Tanishqua   21  Female    Ahmedabad  Sleeping\n",
       "4      Soham   21    Male  Gandhinagar    Gaming"
      ]
     },
     "execution_count": 107,
     "metadata": {},
     "output_type": "execute_result"
    }
   ],
   "source": [
    "df.columns = df.columns.str.replace(' ','_')\n",
    "df"
   ]
  },
  {
   "cell_type": "code",
   "execution_count": 111,
   "id": "32edee12-d9f4-4d98-95f0-8680eecd0540",
   "metadata": {},
   "outputs": [
    {
     "data": {
      "text/html": [
       "<div>\n",
       "<style scoped>\n",
       "    .dataframe tbody tr th:only-of-type {\n",
       "        vertical-align: middle;\n",
       "    }\n",
       "\n",
       "    .dataframe tbody tr th {\n",
       "        vertical-align: top;\n",
       "    }\n",
       "\n",
       "    .dataframe thead th {\n",
       "        text-align: right;\n",
       "    }\n",
       "</style>\n",
       "<table border=\"1\" class=\"dataframe\">\n",
       "  <thead>\n",
       "    <tr style=\"text-align: right;\">\n",
       "      <th></th>\n",
       "      <th>Name</th>\n",
       "      <th>Age</th>\n",
       "      <th>Gender</th>\n",
       "      <th>City</th>\n",
       "      <th>Hobby</th>\n",
       "    </tr>\n",
       "  </thead>\n",
       "  <tbody>\n",
       "    <tr>\n",
       "      <th>0</th>\n",
       "      <td>Rajesh</td>\n",
       "      <td>56</td>\n",
       "      <td>Male</td>\n",
       "      <td>Ahmedabad</td>\n",
       "      <td>Driving</td>\n",
       "    </tr>\n",
       "    <tr>\n",
       "      <th>1</th>\n",
       "      <td>Meetu</td>\n",
       "      <td>49</td>\n",
       "      <td>Female</td>\n",
       "      <td>Ahmedabad</td>\n",
       "      <td>Cooking</td>\n",
       "    </tr>\n",
       "    <tr>\n",
       "      <th>2</th>\n",
       "      <td>Lamha</td>\n",
       "      <td>25</td>\n",
       "      <td>Female</td>\n",
       "      <td>Pune</td>\n",
       "      <td>Dancing</td>\n",
       "    </tr>\n",
       "    <tr>\n",
       "      <th>3</th>\n",
       "      <td>Tanishqua</td>\n",
       "      <td>21</td>\n",
       "      <td>Female</td>\n",
       "      <td>Ahmedabad</td>\n",
       "      <td>Sleeping</td>\n",
       "    </tr>\n",
       "    <tr>\n",
       "      <th>4</th>\n",
       "      <td>Soham</td>\n",
       "      <td>21</td>\n",
       "      <td>Male</td>\n",
       "      <td>Gandhinagar</td>\n",
       "      <td>Gaming</td>\n",
       "    </tr>\n",
       "  </tbody>\n",
       "</table>\n",
       "</div>"
      ],
      "text/plain": [
       "        Name  Age  Gender         City     Hobby\n",
       "0     Rajesh   56    Male    Ahmedabad   Driving\n",
       "1      Meetu   49  Female    Ahmedabad   Cooking\n",
       "2      Lamha   25  Female         Pune   Dancing\n",
       "3  Tanishqua   21  Female    Ahmedabad  Sleeping\n",
       "4      Soham   21    Male  Gandhinagar    Gaming"
      ]
     },
     "execution_count": 111,
     "metadata": {},
     "output_type": "execute_result"
    }
   ],
   "source": [
    "### Reversing the renaming\n",
    "df.columns = [x.capitalize() for x in df.columns]\n",
    "df.rename(columns={'First_name': 'Name'}, inplace=True)\n",
    "df"
   ]
  },
  {
   "cell_type": "code",
   "execution_count": 114,
   "id": "35d2af51-4457-4b8d-9cc8-579c104ffa51",
   "metadata": {},
   "outputs": [
    {
     "data": {
      "text/plain": [
       "Name          Lamha\n",
       "Age              25\n",
       "Gender       Female\n",
       "City      Ahmedabad\n",
       "Hobby       Dancing\n",
       "Name: 2, dtype: object"
      ]
     },
     "execution_count": 114,
     "metadata": {},
     "output_type": "execute_result"
    }
   ],
   "source": [
    "## Updating the Data in rows\n",
    "df.loc[2] = ['Lamha', 25, 'Female', 'Ahmedabad', 'Dancing']\n",
    "df.loc[2]"
   ]
  },
  {
   "cell_type": "code",
   "execution_count": 119,
   "id": "d5bcd949-da3b-4be2-ade3-4012dc0ce5ba",
   "metadata": {},
   "outputs": [
    {
     "data": {
      "text/html": [
       "<div>\n",
       "<style scoped>\n",
       "    .dataframe tbody tr th:only-of-type {\n",
       "        vertical-align: middle;\n",
       "    }\n",
       "\n",
       "    .dataframe tbody tr th {\n",
       "        vertical-align: top;\n",
       "    }\n",
       "\n",
       "    .dataframe thead th {\n",
       "        text-align: right;\n",
       "    }\n",
       "</style>\n",
       "<table border=\"1\" class=\"dataframe\">\n",
       "  <thead>\n",
       "    <tr style=\"text-align: right;\">\n",
       "      <th></th>\n",
       "      <th>Name</th>\n",
       "      <th>Age</th>\n",
       "      <th>Gender</th>\n",
       "      <th>City</th>\n",
       "      <th>Hobby</th>\n",
       "    </tr>\n",
       "  </thead>\n",
       "  <tbody>\n",
       "    <tr>\n",
       "      <th>0</th>\n",
       "      <td>Rajesh</td>\n",
       "      <td>56</td>\n",
       "      <td>Male</td>\n",
       "      <td>Ahmedabad</td>\n",
       "      <td>Driving</td>\n",
       "    </tr>\n",
       "    <tr>\n",
       "      <th>1</th>\n",
       "      <td>Meetu</td>\n",
       "      <td>49</td>\n",
       "      <td>Female</td>\n",
       "      <td>Ahmedabad</td>\n",
       "      <td>Cooking</td>\n",
       "    </tr>\n",
       "    <tr>\n",
       "      <th>2</th>\n",
       "      <td>Lamha</td>\n",
       "      <td>25</td>\n",
       "      <td>Female</td>\n",
       "      <td>Pune</td>\n",
       "      <td>Dancing</td>\n",
       "    </tr>\n",
       "    <tr>\n",
       "      <th>3</th>\n",
       "      <td>Tanishqua</td>\n",
       "      <td>28</td>\n",
       "      <td>Female</td>\n",
       "      <td>Ahmedabad</td>\n",
       "      <td>Coding</td>\n",
       "    </tr>\n",
       "    <tr>\n",
       "      <th>4</th>\n",
       "      <td>Soham</td>\n",
       "      <td>21</td>\n",
       "      <td>Male</td>\n",
       "      <td>Gandhinagar</td>\n",
       "      <td>Gaming</td>\n",
       "    </tr>\n",
       "  </tbody>\n",
       "</table>\n",
       "</div>"
      ],
      "text/plain": [
       "        Name  Age  Gender         City    Hobby\n",
       "0     Rajesh   56    Male    Ahmedabad  Driving\n",
       "1      Meetu   49  Female    Ahmedabad  Cooking\n",
       "2      Lamha   25  Female         Pune  Dancing\n",
       "3  Tanishqua   28  Female    Ahmedabad   Coding\n",
       "4      Soham   21    Male  Gandhinagar   Gaming"
      ]
     },
     "execution_count": 119,
     "metadata": {},
     "output_type": "execute_result"
    }
   ],
   "source": [
    "df.loc[2, 'City'] = 'Pune'\n",
    "df.loc[3, ['Age', 'Hobby']] = [28, 'Coding']\n",
    "df"
   ]
  },
  {
   "cell_type": "code",
   "execution_count": 120,
   "id": "66cfea0a-f683-4530-ba8c-3c1924cf4f39",
   "metadata": {},
   "outputs": [
    {
     "data": {
      "text/html": [
       "<div>\n",
       "<style scoped>\n",
       "    .dataframe tbody tr th:only-of-type {\n",
       "        vertical-align: middle;\n",
       "    }\n",
       "\n",
       "    .dataframe tbody tr th {\n",
       "        vertical-align: top;\n",
       "    }\n",
       "\n",
       "    .dataframe thead th {\n",
       "        text-align: right;\n",
       "    }\n",
       "</style>\n",
       "<table border=\"1\" class=\"dataframe\">\n",
       "  <thead>\n",
       "    <tr style=\"text-align: right;\">\n",
       "      <th></th>\n",
       "      <th>Name</th>\n",
       "      <th>Age</th>\n",
       "      <th>Gender</th>\n",
       "      <th>City</th>\n",
       "      <th>Hobby</th>\n",
       "    </tr>\n",
       "  </thead>\n",
       "  <tbody>\n",
       "    <tr>\n",
       "      <th>0</th>\n",
       "      <td>Rajesh</td>\n",
       "      <td>56</td>\n",
       "      <td>Male</td>\n",
       "      <td>Ahmedabad</td>\n",
       "      <td>Driving</td>\n",
       "    </tr>\n",
       "    <tr>\n",
       "      <th>1</th>\n",
       "      <td>Meetu</td>\n",
       "      <td>49</td>\n",
       "      <td>Female</td>\n",
       "      <td>Ahmedabad</td>\n",
       "      <td>Cooking</td>\n",
       "    </tr>\n",
       "    <tr>\n",
       "      <th>2</th>\n",
       "      <td>Lamha</td>\n",
       "      <td>25</td>\n",
       "      <td>Female</td>\n",
       "      <td>Pune</td>\n",
       "      <td>Dancing</td>\n",
       "    </tr>\n",
       "    <tr>\n",
       "      <th>3</th>\n",
       "      <td>Tanishqua</td>\n",
       "      <td>21</td>\n",
       "      <td>Female</td>\n",
       "      <td>Ahmedabad</td>\n",
       "      <td>Coding</td>\n",
       "    </tr>\n",
       "    <tr>\n",
       "      <th>4</th>\n",
       "      <td>Soham</td>\n",
       "      <td>21</td>\n",
       "      <td>Male</td>\n",
       "      <td>Gandhinagar</td>\n",
       "      <td>Gaming</td>\n",
       "    </tr>\n",
       "  </tbody>\n",
       "</table>\n",
       "</div>"
      ],
      "text/plain": [
       "        Name  Age  Gender         City    Hobby\n",
       "0     Rajesh   56    Male    Ahmedabad  Driving\n",
       "1      Meetu   49  Female    Ahmedabad  Cooking\n",
       "2      Lamha   25  Female         Pune  Dancing\n",
       "3  Tanishqua   21  Female    Ahmedabad   Coding\n",
       "4      Soham   21    Male  Gandhinagar   Gaming"
      ]
     },
     "execution_count": 120,
     "metadata": {},
     "output_type": "execute_result"
    }
   ],
   "source": [
    "df.at[3, 'Age'] = 21\n",
    "df"
   ]
  },
  {
   "cell_type": "code",
   "execution_count": 122,
   "id": "642241e7-606e-4f88-99fa-c74a3d7bd8e3",
   "metadata": {},
   "outputs": [
    {
     "data": {
      "text/html": [
       "<div>\n",
       "<style scoped>\n",
       "    .dataframe tbody tr th:only-of-type {\n",
       "        vertical-align: middle;\n",
       "    }\n",
       "\n",
       "    .dataframe tbody tr th {\n",
       "        vertical-align: top;\n",
       "    }\n",
       "\n",
       "    .dataframe thead th {\n",
       "        text-align: right;\n",
       "    }\n",
       "</style>\n",
       "<table border=\"1\" class=\"dataframe\">\n",
       "  <thead>\n",
       "    <tr style=\"text-align: right;\">\n",
       "      <th></th>\n",
       "      <th>Name</th>\n",
       "      <th>Age</th>\n",
       "      <th>Gender</th>\n",
       "      <th>City</th>\n",
       "      <th>Hobby</th>\n",
       "    </tr>\n",
       "  </thead>\n",
       "  <tbody>\n",
       "    <tr>\n",
       "      <th>0</th>\n",
       "      <td>RAJESH</td>\n",
       "      <td>56</td>\n",
       "      <td>Male</td>\n",
       "      <td>Ahmedabad</td>\n",
       "      <td>Driving</td>\n",
       "    </tr>\n",
       "    <tr>\n",
       "      <th>1</th>\n",
       "      <td>MEETU</td>\n",
       "      <td>49</td>\n",
       "      <td>Female</td>\n",
       "      <td>Ahmedabad</td>\n",
       "      <td>Cooking</td>\n",
       "    </tr>\n",
       "    <tr>\n",
       "      <th>2</th>\n",
       "      <td>LAMHA</td>\n",
       "      <td>25</td>\n",
       "      <td>Female</td>\n",
       "      <td>Pune</td>\n",
       "      <td>Dancing</td>\n",
       "    </tr>\n",
       "    <tr>\n",
       "      <th>3</th>\n",
       "      <td>TANISHQUA</td>\n",
       "      <td>21</td>\n",
       "      <td>Female</td>\n",
       "      <td>Ahmedabad</td>\n",
       "      <td>Coding</td>\n",
       "    </tr>\n",
       "    <tr>\n",
       "      <th>4</th>\n",
       "      <td>SOHAM</td>\n",
       "      <td>21</td>\n",
       "      <td>Male</td>\n",
       "      <td>Gandhinagar</td>\n",
       "      <td>Gaming</td>\n",
       "    </tr>\n",
       "  </tbody>\n",
       "</table>\n",
       "</div>"
      ],
      "text/plain": [
       "        Name  Age  Gender         City    Hobby\n",
       "0     RAJESH   56    Male    Ahmedabad  Driving\n",
       "1      MEETU   49  Female    Ahmedabad  Cooking\n",
       "2      LAMHA   25  Female         Pune  Dancing\n",
       "3  TANISHQUA   21  Female    Ahmedabad   Coding\n",
       "4      SOHAM   21    Male  Gandhinagar   Gaming"
      ]
     },
     "execution_count": 122,
     "metadata": {},
     "output_type": "execute_result"
    }
   ],
   "source": [
    "df['Name'] = df['Name'].str.upper()\n",
    "df"
   ]
  },
  {
   "cell_type": "markdown",
   "id": "754ad3fb-ccd0-42c0-b20a-d8112af32d58",
   "metadata": {},
   "source": [
    "#### Apply -> For Series,\n",
    "#### Map -> ,\n",
    "#### Applymap -> For DataFrame,\n",
    "#### Replace\n"
   ]
  },
  {
   "cell_type": "code",
   "execution_count": 125,
   "id": "64b665f6-ce46-4ff5-9a16-d3b826908330",
   "metadata": {},
   "outputs": [
    {
     "data": {
      "text/plain": [
       "0    6\n",
       "1    5\n",
       "2    5\n",
       "3    9\n",
       "4    5\n",
       "Name: Name, dtype: int64"
      ]
     },
     "execution_count": 125,
     "metadata": {},
     "output_type": "execute_result"
    }
   ],
   "source": [
    "df['Name'].apply(len)"
   ]
  },
  {
   "cell_type": "code",
   "execution_count": 129,
   "id": "a56fc524-d16c-4a03-a5cb-f8afa2d38fba",
   "metadata": {},
   "outputs": [],
   "source": [
    "def update_name(name):\n",
    "    return name.lower()"
   ]
  },
  {
   "cell_type": "code",
   "execution_count": 130,
   "id": "d88f2579-70f1-4b28-9cc1-7b1cb09efc44",
   "metadata": {},
   "outputs": [
    {
     "data": {
      "text/html": [
       "<div>\n",
       "<style scoped>\n",
       "    .dataframe tbody tr th:only-of-type {\n",
       "        vertical-align: middle;\n",
       "    }\n",
       "\n",
       "    .dataframe tbody tr th {\n",
       "        vertical-align: top;\n",
       "    }\n",
       "\n",
       "    .dataframe thead th {\n",
       "        text-align: right;\n",
       "    }\n",
       "</style>\n",
       "<table border=\"1\" class=\"dataframe\">\n",
       "  <thead>\n",
       "    <tr style=\"text-align: right;\">\n",
       "      <th></th>\n",
       "      <th>Name</th>\n",
       "      <th>Age</th>\n",
       "      <th>Gender</th>\n",
       "      <th>City</th>\n",
       "      <th>Hobby</th>\n",
       "    </tr>\n",
       "  </thead>\n",
       "  <tbody>\n",
       "    <tr>\n",
       "      <th>0</th>\n",
       "      <td>rajesh</td>\n",
       "      <td>56</td>\n",
       "      <td>Male</td>\n",
       "      <td>Ahmedabad</td>\n",
       "      <td>Driving</td>\n",
       "    </tr>\n",
       "    <tr>\n",
       "      <th>1</th>\n",
       "      <td>meetu</td>\n",
       "      <td>49</td>\n",
       "      <td>Female</td>\n",
       "      <td>Ahmedabad</td>\n",
       "      <td>Cooking</td>\n",
       "    </tr>\n",
       "    <tr>\n",
       "      <th>2</th>\n",
       "      <td>lamha</td>\n",
       "      <td>25</td>\n",
       "      <td>Female</td>\n",
       "      <td>Pune</td>\n",
       "      <td>Dancing</td>\n",
       "    </tr>\n",
       "    <tr>\n",
       "      <th>3</th>\n",
       "      <td>tanishqua</td>\n",
       "      <td>21</td>\n",
       "      <td>Female</td>\n",
       "      <td>Ahmedabad</td>\n",
       "      <td>Coding</td>\n",
       "    </tr>\n",
       "    <tr>\n",
       "      <th>4</th>\n",
       "      <td>soham</td>\n",
       "      <td>21</td>\n",
       "      <td>Male</td>\n",
       "      <td>Gandhinagar</td>\n",
       "      <td>Gaming</td>\n",
       "    </tr>\n",
       "  </tbody>\n",
       "</table>\n",
       "</div>"
      ],
      "text/plain": [
       "        Name  Age  Gender         City    Hobby\n",
       "0     rajesh   56    Male    Ahmedabad  Driving\n",
       "1      meetu   49  Female    Ahmedabad  Cooking\n",
       "2      lamha   25  Female         Pune  Dancing\n",
       "3  tanishqua   21  Female    Ahmedabad   Coding\n",
       "4      soham   21    Male  Gandhinagar   Gaming"
      ]
     },
     "execution_count": 130,
     "metadata": {},
     "output_type": "execute_result"
    }
   ],
   "source": [
    "df['Name'] = df['Name'].apply(update_name)\n",
    "df"
   ]
  },
  {
   "cell_type": "code",
   "execution_count": 137,
   "id": "68ceeb0c-fa60-458c-8130-c3db3eda4b57",
   "metadata": {},
   "outputs": [
    {
     "data": {
      "text/html": [
       "<div>\n",
       "<style scoped>\n",
       "    .dataframe tbody tr th:only-of-type {\n",
       "        vertical-align: middle;\n",
       "    }\n",
       "\n",
       "    .dataframe tbody tr th {\n",
       "        vertical-align: top;\n",
       "    }\n",
       "\n",
       "    .dataframe thead th {\n",
       "        text-align: right;\n",
       "    }\n",
       "</style>\n",
       "<table border=\"1\" class=\"dataframe\">\n",
       "  <thead>\n",
       "    <tr style=\"text-align: right;\">\n",
       "      <th></th>\n",
       "      <th>Name</th>\n",
       "      <th>Age</th>\n",
       "      <th>Gender</th>\n",
       "      <th>City</th>\n",
       "      <th>Hobby</th>\n",
       "    </tr>\n",
       "  </thead>\n",
       "  <tbody>\n",
       "    <tr>\n",
       "      <th>0</th>\n",
       "      <td>Rajesh</td>\n",
       "      <td>56</td>\n",
       "      <td>Male</td>\n",
       "      <td>Ahmedabad</td>\n",
       "      <td>Driving</td>\n",
       "    </tr>\n",
       "    <tr>\n",
       "      <th>1</th>\n",
       "      <td>Meetu</td>\n",
       "      <td>49</td>\n",
       "      <td>Female</td>\n",
       "      <td>Ahmedabad</td>\n",
       "      <td>Cooking</td>\n",
       "    </tr>\n",
       "    <tr>\n",
       "      <th>2</th>\n",
       "      <td>Lamha</td>\n",
       "      <td>25</td>\n",
       "      <td>Female</td>\n",
       "      <td>Pune</td>\n",
       "      <td>Dancing</td>\n",
       "    </tr>\n",
       "    <tr>\n",
       "      <th>3</th>\n",
       "      <td>Tanishqua</td>\n",
       "      <td>21</td>\n",
       "      <td>Female</td>\n",
       "      <td>Ahmedabad</td>\n",
       "      <td>Coding</td>\n",
       "    </tr>\n",
       "    <tr>\n",
       "      <th>4</th>\n",
       "      <td>Soham</td>\n",
       "      <td>21</td>\n",
       "      <td>Male</td>\n",
       "      <td>Gandhinagar</td>\n",
       "      <td>Gaming</td>\n",
       "    </tr>\n",
       "  </tbody>\n",
       "</table>\n",
       "</div>"
      ],
      "text/plain": [
       "        Name  Age  Gender         City    Hobby\n",
       "0     Rajesh   56    Male    Ahmedabad  Driving\n",
       "1      Meetu   49  Female    Ahmedabad  Cooking\n",
       "2      Lamha   25  Female         Pune  Dancing\n",
       "3  Tanishqua   21  Female    Ahmedabad   Coding\n",
       "4      Soham   21    Male  Gandhinagar   Gaming"
      ]
     },
     "execution_count": 137,
     "metadata": {},
     "output_type": "execute_result"
    }
   ],
   "source": [
    "df['Name'] = df['Name'].apply(lambda x:x.capitalize())\n",
    "df"
   ]
  },
  {
   "cell_type": "code",
   "execution_count": 139,
   "id": "7b7b4c57-d9ce-4aad-8744-ad56abdb55e1",
   "metadata": {},
   "outputs": [
    {
     "data": {
      "text/plain": [
       "Name      5\n",
       "Age       5\n",
       "Gender    5\n",
       "City      5\n",
       "Hobby     5\n",
       "dtype: int64"
      ]
     },
     "execution_count": 139,
     "metadata": {},
     "output_type": "execute_result"
    }
   ],
   "source": [
    "df.apply(len)"
   ]
  },
  {
   "cell_type": "code",
   "execution_count": 140,
   "id": "e59b5d7c-6327-4e1e-abd3-1683c90aaf50",
   "metadata": {},
   "outputs": [
    {
     "data": {
      "text/plain": [
       "Name          Lamha\n",
       "Age              21\n",
       "Gender       Female\n",
       "City      Ahmedabad\n",
       "Hobby        Coding\n",
       "dtype: object"
      ]
     },
     "execution_count": 140,
     "metadata": {},
     "output_type": "execute_result"
    }
   ],
   "source": [
    "df.apply(pd.Series.min)"
   ]
  },
  {
   "cell_type": "code",
   "execution_count": 143,
   "id": "df270e06-3a6e-4251-ab1d-6bfc9b3285a7",
   "metadata": {},
   "outputs": [
    {
     "data": {
      "text/html": [
       "<div>\n",
       "<style scoped>\n",
       "    .dataframe tbody tr th:only-of-type {\n",
       "        vertical-align: middle;\n",
       "    }\n",
       "\n",
       "    .dataframe tbody tr th {\n",
       "        vertical-align: top;\n",
       "    }\n",
       "\n",
       "    .dataframe thead th {\n",
       "        text-align: right;\n",
       "    }\n",
       "</style>\n",
       "<table border=\"1\" class=\"dataframe\">\n",
       "  <thead>\n",
       "    <tr style=\"text-align: right;\">\n",
       "      <th></th>\n",
       "      <th>Name</th>\n",
       "      <th>City</th>\n",
       "      <th>Hobby</th>\n",
       "    </tr>\n",
       "  </thead>\n",
       "  <tbody>\n",
       "    <tr>\n",
       "      <th>0</th>\n",
       "      <td>6</td>\n",
       "      <td>9</td>\n",
       "      <td>7</td>\n",
       "    </tr>\n",
       "    <tr>\n",
       "      <th>1</th>\n",
       "      <td>5</td>\n",
       "      <td>9</td>\n",
       "      <td>7</td>\n",
       "    </tr>\n",
       "    <tr>\n",
       "      <th>2</th>\n",
       "      <td>5</td>\n",
       "      <td>4</td>\n",
       "      <td>7</td>\n",
       "    </tr>\n",
       "    <tr>\n",
       "      <th>3</th>\n",
       "      <td>9</td>\n",
       "      <td>9</td>\n",
       "      <td>6</td>\n",
       "    </tr>\n",
       "    <tr>\n",
       "      <th>4</th>\n",
       "      <td>5</td>\n",
       "      <td>11</td>\n",
       "      <td>6</td>\n",
       "    </tr>\n",
       "  </tbody>\n",
       "</table>\n",
       "</div>"
      ],
      "text/plain": [
       "   Name  City  Hobby\n",
       "0     6     9      7\n",
       "1     5     9      7\n",
       "2     5     4      7\n",
       "3     9     9      6\n",
       "4     5    11      6"
      ]
     },
     "execution_count": 143,
     "metadata": {},
     "output_type": "execute_result"
    }
   ],
   "source": [
    "df[['Name','City', 'Hobby']].applymap(len)"
   ]
  },
  {
   "cell_type": "code",
   "execution_count": 146,
   "id": "395b4814-565b-438c-b804-707c11a8382d",
   "metadata": {},
   "outputs": [
    {
     "data": {
      "text/plain": [
       "0     Raj\n",
       "1     NaN\n",
       "2     NaN\n",
       "3    Tani\n",
       "4     NaN\n",
       "Name: Name, dtype: object"
      ]
     },
     "execution_count": 146,
     "metadata": {},
     "output_type": "execute_result"
    }
   ],
   "source": [
    "df['Name'].map({'Rajesh': 'Raj', 'Tanishqua': 'Tani'})\n",
    "# For values not in dict it gives NaN"
   ]
  },
  {
   "cell_type": "code",
   "execution_count": 147,
   "id": "07635a65-b557-43a5-b339-058305eda213",
   "metadata": {},
   "outputs": [
    {
     "data": {
      "text/plain": [
       "0      Raj\n",
       "1    Meetu\n",
       "2    Lamha\n",
       "3     Tani\n",
       "4    Soham\n",
       "Name: Name, dtype: object"
      ]
     },
     "execution_count": 147,
     "metadata": {},
     "output_type": "execute_result"
    }
   ],
   "source": [
    "df['Name'].replace({'Rajesh': 'Raj', 'Tanishqua': 'Tani'})\n",
    "# For values not in dict it keeps the previous value"
   ]
  },
  {
   "cell_type": "markdown",
   "id": "8e802735-e17d-4f4f-96ac-7aab727a1275",
   "metadata": {},
   "source": [
    "# 6. Add/Remove Rows and Columns"
   ]
  },
  {
   "cell_type": "code",
   "execution_count": 156,
   "id": "db67da62-f354-4283-acc2-76d798c5f33c",
   "metadata": {},
   "outputs": [
    {
     "data": {
      "text/html": [
       "<div>\n",
       "<style scoped>\n",
       "    .dataframe tbody tr th:only-of-type {\n",
       "        vertical-align: middle;\n",
       "    }\n",
       "\n",
       "    .dataframe tbody tr th {\n",
       "        vertical-align: top;\n",
       "    }\n",
       "\n",
       "    .dataframe thead th {\n",
       "        text-align: right;\n",
       "    }\n",
       "</style>\n",
       "<table border=\"1\" class=\"dataframe\">\n",
       "  <thead>\n",
       "    <tr style=\"text-align: right;\">\n",
       "      <th></th>\n",
       "      <th>Name</th>\n",
       "      <th>Age</th>\n",
       "      <th>Gender</th>\n",
       "      <th>City</th>\n",
       "      <th>Hobby</th>\n",
       "      <th>Surname</th>\n",
       "    </tr>\n",
       "  </thead>\n",
       "  <tbody>\n",
       "    <tr>\n",
       "      <th>0</th>\n",
       "      <td>Rajesh</td>\n",
       "      <td>56</td>\n",
       "      <td>Male</td>\n",
       "      <td>Ahmedabad</td>\n",
       "      <td>Driving</td>\n",
       "      <td>Bansal</td>\n",
       "    </tr>\n",
       "    <tr>\n",
       "      <th>1</th>\n",
       "      <td>Meetu</td>\n",
       "      <td>49</td>\n",
       "      <td>Female</td>\n",
       "      <td>Ahmedabad</td>\n",
       "      <td>Cooking</td>\n",
       "      <td>Bansal</td>\n",
       "    </tr>\n",
       "    <tr>\n",
       "      <th>2</th>\n",
       "      <td>Lamha</td>\n",
       "      <td>25</td>\n",
       "      <td>Female</td>\n",
       "      <td>Pune</td>\n",
       "      <td>Dancing</td>\n",
       "      <td>Bansal</td>\n",
       "    </tr>\n",
       "    <tr>\n",
       "      <th>3</th>\n",
       "      <td>Tanishqua</td>\n",
       "      <td>21</td>\n",
       "      <td>Female</td>\n",
       "      <td>Ahmedabad</td>\n",
       "      <td>Sleeping</td>\n",
       "      <td>Bansal</td>\n",
       "    </tr>\n",
       "    <tr>\n",
       "      <th>4</th>\n",
       "      <td>Soham</td>\n",
       "      <td>21</td>\n",
       "      <td>Male</td>\n",
       "      <td>Gandhinagar</td>\n",
       "      <td>Gaming</td>\n",
       "      <td>Dave</td>\n",
       "    </tr>\n",
       "  </tbody>\n",
       "</table>\n",
       "</div>"
      ],
      "text/plain": [
       "        Name  Age  Gender         City     Hobby Surname\n",
       "0     Rajesh   56    Male    Ahmedabad   Driving  Bansal\n",
       "1      Meetu   49  Female    Ahmedabad   Cooking  Bansal\n",
       "2      Lamha   25  Female         Pune   Dancing  Bansal\n",
       "3  Tanishqua   21  Female    Ahmedabad  Sleeping  Bansal\n",
       "4      Soham   21    Male  Gandhinagar    Gaming    Dave"
      ]
     },
     "execution_count": 156,
     "metadata": {},
     "output_type": "execute_result"
    }
   ],
   "source": [
    "surnames = ['Bansal', 'Bansal', 'Bansal', 'Bansal', 'Dave']\n",
    "df['Surname'] = surnames\n",
    "df"
   ]
  },
  {
   "cell_type": "code",
   "execution_count": 157,
   "id": "474897a5-437c-4af0-bd69-08a37dcffcd1",
   "metadata": {},
   "outputs": [],
   "source": [
    "df['Full_name'] = df['Name'] + ' ' + df['Surname']"
   ]
  },
  {
   "cell_type": "code",
   "execution_count": 158,
   "id": "dbac7ed2-c707-4453-86fa-ffc3b9a75a58",
   "metadata": {},
   "outputs": [
    {
     "data": {
      "text/html": [
       "<div>\n",
       "<style scoped>\n",
       "    .dataframe tbody tr th:only-of-type {\n",
       "        vertical-align: middle;\n",
       "    }\n",
       "\n",
       "    .dataframe tbody tr th {\n",
       "        vertical-align: top;\n",
       "    }\n",
       "\n",
       "    .dataframe thead th {\n",
       "        text-align: right;\n",
       "    }\n",
       "</style>\n",
       "<table border=\"1\" class=\"dataframe\">\n",
       "  <thead>\n",
       "    <tr style=\"text-align: right;\">\n",
       "      <th></th>\n",
       "      <th>Age</th>\n",
       "      <th>Gender</th>\n",
       "      <th>City</th>\n",
       "      <th>Hobby</th>\n",
       "      <th>Full_name</th>\n",
       "    </tr>\n",
       "  </thead>\n",
       "  <tbody>\n",
       "    <tr>\n",
       "      <th>0</th>\n",
       "      <td>56</td>\n",
       "      <td>Male</td>\n",
       "      <td>Ahmedabad</td>\n",
       "      <td>Driving</td>\n",
       "      <td>Rajesh Bansal</td>\n",
       "    </tr>\n",
       "    <tr>\n",
       "      <th>1</th>\n",
       "      <td>49</td>\n",
       "      <td>Female</td>\n",
       "      <td>Ahmedabad</td>\n",
       "      <td>Cooking</td>\n",
       "      <td>Meetu Bansal</td>\n",
       "    </tr>\n",
       "    <tr>\n",
       "      <th>2</th>\n",
       "      <td>25</td>\n",
       "      <td>Female</td>\n",
       "      <td>Pune</td>\n",
       "      <td>Dancing</td>\n",
       "      <td>Lamha Bansal</td>\n",
       "    </tr>\n",
       "    <tr>\n",
       "      <th>3</th>\n",
       "      <td>21</td>\n",
       "      <td>Female</td>\n",
       "      <td>Ahmedabad</td>\n",
       "      <td>Sleeping</td>\n",
       "      <td>Tanishqua Bansal</td>\n",
       "    </tr>\n",
       "    <tr>\n",
       "      <th>4</th>\n",
       "      <td>21</td>\n",
       "      <td>Male</td>\n",
       "      <td>Gandhinagar</td>\n",
       "      <td>Gaming</td>\n",
       "      <td>Soham Dave</td>\n",
       "    </tr>\n",
       "  </tbody>\n",
       "</table>\n",
       "</div>"
      ],
      "text/plain": [
       "   Age  Gender         City     Hobby         Full_name\n",
       "0   56    Male    Ahmedabad   Driving     Rajesh Bansal\n",
       "1   49  Female    Ahmedabad   Cooking      Meetu Bansal\n",
       "2   25  Female         Pune   Dancing      Lamha Bansal\n",
       "3   21  Female    Ahmedabad  Sleeping  Tanishqua Bansal\n",
       "4   21    Male  Gandhinagar    Gaming        Soham Dave"
      ]
     },
     "execution_count": 158,
     "metadata": {},
     "output_type": "execute_result"
    }
   ],
   "source": [
    "df.drop(columns=['Name', 'Surname'], inplace=True)\n",
    "df"
   ]
  },
  {
   "cell_type": "code",
   "execution_count": 161,
   "id": "dad90f68-fb98-45a9-9b79-14b5260f9a6a",
   "metadata": {},
   "outputs": [],
   "source": [
    "# df['Full_name'].str.split(' ') -> Make list after splitting\n",
    "full_names = df['Full_name'].str.split(' ', expand=True) # Make columns after splitting"
   ]
  },
  {
   "cell_type": "code",
   "execution_count": 179,
   "id": "a9e1221a-bd25-4155-b7ab-83d3b9dc8b55",
   "metadata": {},
   "outputs": [
    {
     "data": {
      "text/html": [
       "<div>\n",
       "<style scoped>\n",
       "    .dataframe tbody tr th:only-of-type {\n",
       "        vertical-align: middle;\n",
       "    }\n",
       "\n",
       "    .dataframe tbody tr th {\n",
       "        vertical-align: top;\n",
       "    }\n",
       "\n",
       "    .dataframe thead th {\n",
       "        text-align: right;\n",
       "    }\n",
       "</style>\n",
       "<table border=\"1\" class=\"dataframe\">\n",
       "  <thead>\n",
       "    <tr style=\"text-align: right;\">\n",
       "      <th></th>\n",
       "      <th>Age</th>\n",
       "      <th>Gender</th>\n",
       "      <th>City</th>\n",
       "      <th>Hobby</th>\n",
       "      <th>Full_name</th>\n",
       "      <th>Name</th>\n",
       "      <th>Surname</th>\n",
       "    </tr>\n",
       "  </thead>\n",
       "  <tbody>\n",
       "    <tr>\n",
       "      <th>0</th>\n",
       "      <td>56</td>\n",
       "      <td>Male</td>\n",
       "      <td>Ahmedabad</td>\n",
       "      <td>Driving</td>\n",
       "      <td>Rajesh Bansal</td>\n",
       "      <td>Rajesh</td>\n",
       "      <td>Bansal</td>\n",
       "    </tr>\n",
       "    <tr>\n",
       "      <th>1</th>\n",
       "      <td>49</td>\n",
       "      <td>Female</td>\n",
       "      <td>Ahmedabad</td>\n",
       "      <td>Cooking</td>\n",
       "      <td>Meetu Bansal</td>\n",
       "      <td>Meetu</td>\n",
       "      <td>Bansal</td>\n",
       "    </tr>\n",
       "    <tr>\n",
       "      <th>2</th>\n",
       "      <td>25</td>\n",
       "      <td>Female</td>\n",
       "      <td>Pune</td>\n",
       "      <td>Dancing</td>\n",
       "      <td>Lamha Bansal</td>\n",
       "      <td>Lamha</td>\n",
       "      <td>Bansal</td>\n",
       "    </tr>\n",
       "    <tr>\n",
       "      <th>3</th>\n",
       "      <td>21</td>\n",
       "      <td>Female</td>\n",
       "      <td>Ahmedabad</td>\n",
       "      <td>Sleeping</td>\n",
       "      <td>Tanishqua Bansal</td>\n",
       "      <td>Tanishqua</td>\n",
       "      <td>Bansal</td>\n",
       "    </tr>\n",
       "    <tr>\n",
       "      <th>4</th>\n",
       "      <td>21</td>\n",
       "      <td>Male</td>\n",
       "      <td>Gandhinagar</td>\n",
       "      <td>Gaming</td>\n",
       "      <td>Soham Dave</td>\n",
       "      <td>Soham</td>\n",
       "      <td>Dave</td>\n",
       "    </tr>\n",
       "  </tbody>\n",
       "</table>\n",
       "</div>"
      ],
      "text/plain": [
       "   Age  Gender         City     Hobby         Full_name       Name Surname\n",
       "0   56    Male    Ahmedabad   Driving     Rajesh Bansal     Rajesh  Bansal\n",
       "1   49  Female    Ahmedabad   Cooking      Meetu Bansal      Meetu  Bansal\n",
       "2   25  Female         Pune   Dancing      Lamha Bansal      Lamha  Bansal\n",
       "3   21  Female    Ahmedabad  Sleeping  Tanishqua Bansal  Tanishqua  Bansal\n",
       "4   21    Male  Gandhinagar    Gaming        Soham Dave      Soham    Dave"
      ]
     },
     "execution_count": 179,
     "metadata": {},
     "output_type": "execute_result"
    }
   ],
   "source": [
    "df[['Name', 'Surname']] = full_names\n",
    "df"
   ]
  },
  {
   "cell_type": "code",
   "execution_count": 182,
   "id": "e8ae4fc2-f770-4627-845e-71e5d413b578",
   "metadata": {},
   "outputs": [],
   "source": [
    "# df.append({'Name': 'Yatri'}) -> Gives no attribute error so use _append instead\n",
    "# df._append({'Name': 'Yatri'}) -> Gives TypeError\n",
    "df = df._append({'Name': 'Yatri','Surname': 'Dave', 'Age': 24, 'Gender': 'Female', 'City': 'Gandhinagar', 'Hobby': 'Mandala', 'Full_name': 'Yatri Dave'}, ignore_index=True)"
   ]
  },
  {
   "cell_type": "code",
   "execution_count": 183,
   "id": "83f41cfd-9e21-4ba8-802d-5254066126d3",
   "metadata": {},
   "outputs": [],
   "source": [
    "data2 = {\n",
    "    'Name': ['Manish','Rajeshwari'],\n",
    "    'Surname': ['Dave', 'Dave'],\n",
    "    'Age': [52, 50],\n",
    "    'Gender': ['Male', 'Female'],\n",
    "    'City': ['Gandhinagar', 'Gandhinagar'],\n",
    "    'Hobby': ['Driving', 'Cooking'],\n",
    "    'Full_name': ['Manish Dave', 'Rajeshwari Dave']\n",
    "}"
   ]
  },
  {
   "cell_type": "code",
   "execution_count": 184,
   "id": "170afa4b-3bda-4a6b-8571-a36aa5346dbe",
   "metadata": {},
   "outputs": [],
   "source": [
    "df2 = pd.DataFrame(data2)"
   ]
  },
  {
   "cell_type": "code",
   "execution_count": 194,
   "id": "e53b4e5e-4630-46ae-a131-7acd3d9cb32c",
   "metadata": {},
   "outputs": [
    {
     "data": {
      "text/html": [
       "<div>\n",
       "<style scoped>\n",
       "    .dataframe tbody tr th:only-of-type {\n",
       "        vertical-align: middle;\n",
       "    }\n",
       "\n",
       "    .dataframe tbody tr th {\n",
       "        vertical-align: top;\n",
       "    }\n",
       "\n",
       "    .dataframe thead th {\n",
       "        text-align: right;\n",
       "    }\n",
       "</style>\n",
       "<table border=\"1\" class=\"dataframe\">\n",
       "  <thead>\n",
       "    <tr style=\"text-align: right;\">\n",
       "      <th></th>\n",
       "      <th>Age</th>\n",
       "      <th>Gender</th>\n",
       "      <th>City</th>\n",
       "      <th>Hobby</th>\n",
       "      <th>Full_name</th>\n",
       "      <th>Name</th>\n",
       "      <th>Surname</th>\n",
       "    </tr>\n",
       "  </thead>\n",
       "  <tbody>\n",
       "    <tr>\n",
       "      <th>0</th>\n",
       "      <td>56</td>\n",
       "      <td>Male</td>\n",
       "      <td>Ahmedabad</td>\n",
       "      <td>Driving</td>\n",
       "      <td>Rajesh Bansal</td>\n",
       "      <td>Rajesh</td>\n",
       "      <td>Bansal</td>\n",
       "    </tr>\n",
       "    <tr>\n",
       "      <th>1</th>\n",
       "      <td>49</td>\n",
       "      <td>Female</td>\n",
       "      <td>Ahmedabad</td>\n",
       "      <td>Cooking</td>\n",
       "      <td>Meetu Bansal</td>\n",
       "      <td>Meetu</td>\n",
       "      <td>Bansal</td>\n",
       "    </tr>\n",
       "    <tr>\n",
       "      <th>2</th>\n",
       "      <td>25</td>\n",
       "      <td>Female</td>\n",
       "      <td>Pune</td>\n",
       "      <td>Dancing</td>\n",
       "      <td>Lamha Bansal</td>\n",
       "      <td>Lamha</td>\n",
       "      <td>Bansal</td>\n",
       "    </tr>\n",
       "    <tr>\n",
       "      <th>3</th>\n",
       "      <td>21</td>\n",
       "      <td>Female</td>\n",
       "      <td>Ahmedabad</td>\n",
       "      <td>Sleeping</td>\n",
       "      <td>Tanishqua Bansal</td>\n",
       "      <td>Tanishqua</td>\n",
       "      <td>Bansal</td>\n",
       "    </tr>\n",
       "    <tr>\n",
       "      <th>4</th>\n",
       "      <td>21</td>\n",
       "      <td>Male</td>\n",
       "      <td>Gandhinagar</td>\n",
       "      <td>Gaming</td>\n",
       "      <td>Soham Dave</td>\n",
       "      <td>Soham</td>\n",
       "      <td>Dave</td>\n",
       "    </tr>\n",
       "    <tr>\n",
       "      <th>5</th>\n",
       "      <td>24</td>\n",
       "      <td>Female</td>\n",
       "      <td>Gandhinagar</td>\n",
       "      <td>Mandala</td>\n",
       "      <td>Yatri Dave</td>\n",
       "      <td>Yatri</td>\n",
       "      <td>Dave</td>\n",
       "    </tr>\n",
       "    <tr>\n",
       "      <th>6</th>\n",
       "      <td>52</td>\n",
       "      <td>Male</td>\n",
       "      <td>Gandhinagar</td>\n",
       "      <td>Driving</td>\n",
       "      <td>Manish Dave</td>\n",
       "      <td>Manish</td>\n",
       "      <td>Dave</td>\n",
       "    </tr>\n",
       "    <tr>\n",
       "      <th>7</th>\n",
       "      <td>50</td>\n",
       "      <td>Female</td>\n",
       "      <td>Gandhinagar</td>\n",
       "      <td>Cooking</td>\n",
       "      <td>Rajeshwari Dave</td>\n",
       "      <td>Rajeshwari</td>\n",
       "      <td>Dave</td>\n",
       "    </tr>\n",
       "  </tbody>\n",
       "</table>\n",
       "</div>"
      ],
      "text/plain": [
       "   Age  Gender         City     Hobby         Full_name        Name Surname\n",
       "0   56    Male    Ahmedabad   Driving     Rajesh Bansal      Rajesh  Bansal\n",
       "1   49  Female    Ahmedabad   Cooking      Meetu Bansal       Meetu  Bansal\n",
       "2   25  Female         Pune   Dancing      Lamha Bansal       Lamha  Bansal\n",
       "3   21  Female    Ahmedabad  Sleeping  Tanishqua Bansal   Tanishqua  Bansal\n",
       "4   21    Male  Gandhinagar    Gaming        Soham Dave       Soham    Dave\n",
       "5   24  Female  Gandhinagar   Mandala        Yatri Dave       Yatri    Dave\n",
       "6   52    Male  Gandhinagar   Driving       Manish Dave      Manish    Dave\n",
       "7   50  Female  Gandhinagar   Cooking   Rajeshwari Dave  Rajeshwari    Dave"
      ]
     },
     "execution_count": 194,
     "metadata": {},
     "output_type": "execute_result"
    }
   ],
   "source": [
    "df = df._append(df2, ignore_index=True, sort=False)\n",
    "df"
   ]
  },
  {
   "cell_type": "code",
   "execution_count": 196,
   "id": "d85d88bc-d615-4a71-8c1b-c685550e8f8a",
   "metadata": {},
   "outputs": [
    {
     "data": {
      "text/html": [
       "<div>\n",
       "<style scoped>\n",
       "    .dataframe tbody tr th:only-of-type {\n",
       "        vertical-align: middle;\n",
       "    }\n",
       "\n",
       "    .dataframe tbody tr th {\n",
       "        vertical-align: top;\n",
       "    }\n",
       "\n",
       "    .dataframe thead th {\n",
       "        text-align: right;\n",
       "    }\n",
       "</style>\n",
       "<table border=\"1\" class=\"dataframe\">\n",
       "  <thead>\n",
       "    <tr style=\"text-align: right;\">\n",
       "      <th></th>\n",
       "      <th>Age</th>\n",
       "      <th>Gender</th>\n",
       "      <th>City</th>\n",
       "      <th>Hobby</th>\n",
       "      <th>Full_name</th>\n",
       "      <th>Name</th>\n",
       "      <th>Surname</th>\n",
       "    </tr>\n",
       "  </thead>\n",
       "  <tbody>\n",
       "    <tr>\n",
       "      <th>0</th>\n",
       "      <td>56</td>\n",
       "      <td>Male</td>\n",
       "      <td>Ahmedabad</td>\n",
       "      <td>Driving</td>\n",
       "      <td>Rajesh Bansal</td>\n",
       "      <td>Rajesh</td>\n",
       "      <td>Bansal</td>\n",
       "    </tr>\n",
       "    <tr>\n",
       "      <th>1</th>\n",
       "      <td>49</td>\n",
       "      <td>Female</td>\n",
       "      <td>Ahmedabad</td>\n",
       "      <td>Cooking</td>\n",
       "      <td>Meetu Bansal</td>\n",
       "      <td>Meetu</td>\n",
       "      <td>Bansal</td>\n",
       "    </tr>\n",
       "    <tr>\n",
       "      <th>2</th>\n",
       "      <td>25</td>\n",
       "      <td>Female</td>\n",
       "      <td>Pune</td>\n",
       "      <td>Dancing</td>\n",
       "      <td>Lamha Bansal</td>\n",
       "      <td>Lamha</td>\n",
       "      <td>Bansal</td>\n",
       "    </tr>\n",
       "    <tr>\n",
       "      <th>3</th>\n",
       "      <td>21</td>\n",
       "      <td>Female</td>\n",
       "      <td>Ahmedabad</td>\n",
       "      <td>Sleeping</td>\n",
       "      <td>Tanishqua Bansal</td>\n",
       "      <td>Tanishqua</td>\n",
       "      <td>Bansal</td>\n",
       "    </tr>\n",
       "    <tr>\n",
       "      <th>4</th>\n",
       "      <td>21</td>\n",
       "      <td>Male</td>\n",
       "      <td>Gandhinagar</td>\n",
       "      <td>Gaming</td>\n",
       "      <td>Soham Dave</td>\n",
       "      <td>Soham</td>\n",
       "      <td>Dave</td>\n",
       "    </tr>\n",
       "    <tr>\n",
       "      <th>5</th>\n",
       "      <td>24</td>\n",
       "      <td>Female</td>\n",
       "      <td>Gandhinagar</td>\n",
       "      <td>Mandala</td>\n",
       "      <td>Yatri Dave</td>\n",
       "      <td>Yatri</td>\n",
       "      <td>Dave</td>\n",
       "    </tr>\n",
       "    <tr>\n",
       "      <th>6</th>\n",
       "      <td>52</td>\n",
       "      <td>Male</td>\n",
       "      <td>Gandhinagar</td>\n",
       "      <td>Driving</td>\n",
       "      <td>Manish Dave</td>\n",
       "      <td>Manish</td>\n",
       "      <td>Dave</td>\n",
       "    </tr>\n",
       "  </tbody>\n",
       "</table>\n",
       "</div>"
      ],
      "text/plain": [
       "   Age  Gender         City     Hobby         Full_name       Name Surname\n",
       "0   56    Male    Ahmedabad   Driving     Rajesh Bansal     Rajesh  Bansal\n",
       "1   49  Female    Ahmedabad   Cooking      Meetu Bansal      Meetu  Bansal\n",
       "2   25  Female         Pune   Dancing      Lamha Bansal      Lamha  Bansal\n",
       "3   21  Female    Ahmedabad  Sleeping  Tanishqua Bansal  Tanishqua  Bansal\n",
       "4   21    Male  Gandhinagar    Gaming        Soham Dave      Soham    Dave\n",
       "5   24  Female  Gandhinagar   Mandala        Yatri Dave      Yatri    Dave\n",
       "6   52    Male  Gandhinagar   Driving       Manish Dave     Manish    Dave"
      ]
     },
     "execution_count": 196,
     "metadata": {},
     "output_type": "execute_result"
    }
   ],
   "source": [
    "df.drop(index=7) # Create as view"
   ]
  },
  {
   "cell_type": "code",
   "execution_count": 197,
   "id": "67901986-f16b-42b3-9747-53ca5e1aa467",
   "metadata": {},
   "outputs": [
    {
     "data": {
      "text/html": [
       "<div>\n",
       "<style scoped>\n",
       "    .dataframe tbody tr th:only-of-type {\n",
       "        vertical-align: middle;\n",
       "    }\n",
       "\n",
       "    .dataframe tbody tr th {\n",
       "        vertical-align: top;\n",
       "    }\n",
       "\n",
       "    .dataframe thead th {\n",
       "        text-align: right;\n",
       "    }\n",
       "</style>\n",
       "<table border=\"1\" class=\"dataframe\">\n",
       "  <thead>\n",
       "    <tr style=\"text-align: right;\">\n",
       "      <th></th>\n",
       "      <th>Age</th>\n",
       "      <th>Gender</th>\n",
       "      <th>City</th>\n",
       "      <th>Hobby</th>\n",
       "      <th>Full_name</th>\n",
       "      <th>Name</th>\n",
       "      <th>Surname</th>\n",
       "    </tr>\n",
       "  </thead>\n",
       "  <tbody>\n",
       "    <tr>\n",
       "      <th>4</th>\n",
       "      <td>21</td>\n",
       "      <td>Male</td>\n",
       "      <td>Gandhinagar</td>\n",
       "      <td>Gaming</td>\n",
       "      <td>Soham Dave</td>\n",
       "      <td>Soham</td>\n",
       "      <td>Dave</td>\n",
       "    </tr>\n",
       "    <tr>\n",
       "      <th>5</th>\n",
       "      <td>24</td>\n",
       "      <td>Female</td>\n",
       "      <td>Gandhinagar</td>\n",
       "      <td>Mandala</td>\n",
       "      <td>Yatri Dave</td>\n",
       "      <td>Yatri</td>\n",
       "      <td>Dave</td>\n",
       "    </tr>\n",
       "    <tr>\n",
       "      <th>6</th>\n",
       "      <td>52</td>\n",
       "      <td>Male</td>\n",
       "      <td>Gandhinagar</td>\n",
       "      <td>Driving</td>\n",
       "      <td>Manish Dave</td>\n",
       "      <td>Manish</td>\n",
       "      <td>Dave</td>\n",
       "    </tr>\n",
       "    <tr>\n",
       "      <th>7</th>\n",
       "      <td>50</td>\n",
       "      <td>Female</td>\n",
       "      <td>Gandhinagar</td>\n",
       "      <td>Cooking</td>\n",
       "      <td>Rajeshwari Dave</td>\n",
       "      <td>Rajeshwari</td>\n",
       "      <td>Dave</td>\n",
       "    </tr>\n",
       "  </tbody>\n",
       "</table>\n",
       "</div>"
      ],
      "text/plain": [
       "   Age  Gender         City    Hobby        Full_name        Name Surname\n",
       "4   21    Male  Gandhinagar   Gaming       Soham Dave       Soham    Dave\n",
       "5   24  Female  Gandhinagar  Mandala       Yatri Dave       Yatri    Dave\n",
       "6   52    Male  Gandhinagar  Driving      Manish Dave      Manish    Dave\n",
       "7   50  Female  Gandhinagar  Cooking  Rajeshwari Dave  Rajeshwari    Dave"
      ]
     },
     "execution_count": 197,
     "metadata": {},
     "output_type": "execute_result"
    }
   ],
   "source": [
    "bansals = df['Surname'] == 'Bansal'\n",
    "df.drop(index=df[bansals].index) "
   ]
  },
  {
   "cell_type": "markdown",
   "id": "d4298d75-ee72-4199-81a8-a59c2c1d9758",
   "metadata": {},
   "source": [
    "# 7. Sort Data"
   ]
  },
  {
   "cell_type": "code",
   "execution_count": 200,
   "id": "584fe982-69e3-44df-bd73-ad7e6685efd4",
   "metadata": {},
   "outputs": [
    {
     "data": {
      "text/html": [
       "<div>\n",
       "<style scoped>\n",
       "    .dataframe tbody tr th:only-of-type {\n",
       "        vertical-align: middle;\n",
       "    }\n",
       "\n",
       "    .dataframe tbody tr th {\n",
       "        vertical-align: top;\n",
       "    }\n",
       "\n",
       "    .dataframe thead th {\n",
       "        text-align: right;\n",
       "    }\n",
       "</style>\n",
       "<table border=\"1\" class=\"dataframe\">\n",
       "  <thead>\n",
       "    <tr style=\"text-align: right;\">\n",
       "      <th></th>\n",
       "      <th>Age</th>\n",
       "      <th>Gender</th>\n",
       "      <th>City</th>\n",
       "      <th>Hobby</th>\n",
       "      <th>Full_name</th>\n",
       "      <th>Name</th>\n",
       "      <th>Surname</th>\n",
       "    </tr>\n",
       "  </thead>\n",
       "  <tbody>\n",
       "    <tr>\n",
       "      <th>5</th>\n",
       "      <td>24</td>\n",
       "      <td>Female</td>\n",
       "      <td>Gandhinagar</td>\n",
       "      <td>Mandala</td>\n",
       "      <td>Yatri Dave</td>\n",
       "      <td>Yatri</td>\n",
       "      <td>Dave</td>\n",
       "    </tr>\n",
       "    <tr>\n",
       "      <th>3</th>\n",
       "      <td>21</td>\n",
       "      <td>Female</td>\n",
       "      <td>Ahmedabad</td>\n",
       "      <td>Sleeping</td>\n",
       "      <td>Tanishqua Bansal</td>\n",
       "      <td>Tanishqua</td>\n",
       "      <td>Bansal</td>\n",
       "    </tr>\n",
       "    <tr>\n",
       "      <th>4</th>\n",
       "      <td>21</td>\n",
       "      <td>Male</td>\n",
       "      <td>Gandhinagar</td>\n",
       "      <td>Gaming</td>\n",
       "      <td>Soham Dave</td>\n",
       "      <td>Soham</td>\n",
       "      <td>Dave</td>\n",
       "    </tr>\n",
       "    <tr>\n",
       "      <th>7</th>\n",
       "      <td>50</td>\n",
       "      <td>Female</td>\n",
       "      <td>Gandhinagar</td>\n",
       "      <td>Cooking</td>\n",
       "      <td>Rajeshwari Dave</td>\n",
       "      <td>Rajeshwari</td>\n",
       "      <td>Dave</td>\n",
       "    </tr>\n",
       "    <tr>\n",
       "      <th>0</th>\n",
       "      <td>56</td>\n",
       "      <td>Male</td>\n",
       "      <td>Ahmedabad</td>\n",
       "      <td>Driving</td>\n",
       "      <td>Rajesh Bansal</td>\n",
       "      <td>Rajesh</td>\n",
       "      <td>Bansal</td>\n",
       "    </tr>\n",
       "    <tr>\n",
       "      <th>1</th>\n",
       "      <td>49</td>\n",
       "      <td>Female</td>\n",
       "      <td>Ahmedabad</td>\n",
       "      <td>Cooking</td>\n",
       "      <td>Meetu Bansal</td>\n",
       "      <td>Meetu</td>\n",
       "      <td>Bansal</td>\n",
       "    </tr>\n",
       "    <tr>\n",
       "      <th>6</th>\n",
       "      <td>52</td>\n",
       "      <td>Male</td>\n",
       "      <td>Gandhinagar</td>\n",
       "      <td>Driving</td>\n",
       "      <td>Manish Dave</td>\n",
       "      <td>Manish</td>\n",
       "      <td>Dave</td>\n",
       "    </tr>\n",
       "    <tr>\n",
       "      <th>2</th>\n",
       "      <td>25</td>\n",
       "      <td>Female</td>\n",
       "      <td>Pune</td>\n",
       "      <td>Dancing</td>\n",
       "      <td>Lamha Bansal</td>\n",
       "      <td>Lamha</td>\n",
       "      <td>Bansal</td>\n",
       "    </tr>\n",
       "  </tbody>\n",
       "</table>\n",
       "</div>"
      ],
      "text/plain": [
       "   Age  Gender         City     Hobby         Full_name        Name Surname\n",
       "5   24  Female  Gandhinagar   Mandala        Yatri Dave       Yatri    Dave\n",
       "3   21  Female    Ahmedabad  Sleeping  Tanishqua Bansal   Tanishqua  Bansal\n",
       "4   21    Male  Gandhinagar    Gaming        Soham Dave       Soham    Dave\n",
       "7   50  Female  Gandhinagar   Cooking   Rajeshwari Dave  Rajeshwari    Dave\n",
       "0   56    Male    Ahmedabad   Driving     Rajesh Bansal      Rajesh  Bansal\n",
       "1   49  Female    Ahmedabad   Cooking      Meetu Bansal       Meetu  Bansal\n",
       "6   52    Male  Gandhinagar   Driving       Manish Dave      Manish    Dave\n",
       "2   25  Female         Pune   Dancing      Lamha Bansal       Lamha  Bansal"
      ]
     },
     "execution_count": 200,
     "metadata": {},
     "output_type": "execute_result"
    }
   ],
   "source": [
    "df.sort_values(by='Name', ascending=False)"
   ]
  },
  {
   "cell_type": "code",
   "execution_count": 202,
   "id": "455d1e2e-4536-47ef-8413-727145e62250",
   "metadata": {},
   "outputs": [
    {
     "data": {
      "text/html": [
       "<div>\n",
       "<style scoped>\n",
       "    .dataframe tbody tr th:only-of-type {\n",
       "        vertical-align: middle;\n",
       "    }\n",
       "\n",
       "    .dataframe tbody tr th {\n",
       "        vertical-align: top;\n",
       "    }\n",
       "\n",
       "    .dataframe thead th {\n",
       "        text-align: right;\n",
       "    }\n",
       "</style>\n",
       "<table border=\"1\" class=\"dataframe\">\n",
       "  <thead>\n",
       "    <tr style=\"text-align: right;\">\n",
       "      <th></th>\n",
       "      <th>Age</th>\n",
       "      <th>Gender</th>\n",
       "      <th>City</th>\n",
       "      <th>Hobby</th>\n",
       "      <th>Full_name</th>\n",
       "      <th>Name</th>\n",
       "      <th>Surname</th>\n",
       "    </tr>\n",
       "  </thead>\n",
       "  <tbody>\n",
       "    <tr>\n",
       "      <th>3</th>\n",
       "      <td>21</td>\n",
       "      <td>Female</td>\n",
       "      <td>Ahmedabad</td>\n",
       "      <td>Sleeping</td>\n",
       "      <td>Tanishqua Bansal</td>\n",
       "      <td>Tanishqua</td>\n",
       "      <td>Bansal</td>\n",
       "    </tr>\n",
       "    <tr>\n",
       "      <th>5</th>\n",
       "      <td>24</td>\n",
       "      <td>Female</td>\n",
       "      <td>Gandhinagar</td>\n",
       "      <td>Mandala</td>\n",
       "      <td>Yatri Dave</td>\n",
       "      <td>Yatri</td>\n",
       "      <td>Dave</td>\n",
       "    </tr>\n",
       "    <tr>\n",
       "      <th>4</th>\n",
       "      <td>21</td>\n",
       "      <td>Male</td>\n",
       "      <td>Gandhinagar</td>\n",
       "      <td>Gaming</td>\n",
       "      <td>Soham Dave</td>\n",
       "      <td>Soham</td>\n",
       "      <td>Dave</td>\n",
       "    </tr>\n",
       "    <tr>\n",
       "      <th>6</th>\n",
       "      <td>52</td>\n",
       "      <td>Male</td>\n",
       "      <td>Gandhinagar</td>\n",
       "      <td>Driving</td>\n",
       "      <td>Manish Dave</td>\n",
       "      <td>Manish</td>\n",
       "      <td>Dave</td>\n",
       "    </tr>\n",
       "    <tr>\n",
       "      <th>0</th>\n",
       "      <td>56</td>\n",
       "      <td>Male</td>\n",
       "      <td>Ahmedabad</td>\n",
       "      <td>Driving</td>\n",
       "      <td>Rajesh Bansal</td>\n",
       "      <td>Rajesh</td>\n",
       "      <td>Bansal</td>\n",
       "    </tr>\n",
       "    <tr>\n",
       "      <th>2</th>\n",
       "      <td>25</td>\n",
       "      <td>Female</td>\n",
       "      <td>Pune</td>\n",
       "      <td>Dancing</td>\n",
       "      <td>Lamha Bansal</td>\n",
       "      <td>Lamha</td>\n",
       "      <td>Bansal</td>\n",
       "    </tr>\n",
       "    <tr>\n",
       "      <th>1</th>\n",
       "      <td>49</td>\n",
       "      <td>Female</td>\n",
       "      <td>Ahmedabad</td>\n",
       "      <td>Cooking</td>\n",
       "      <td>Meetu Bansal</td>\n",
       "      <td>Meetu</td>\n",
       "      <td>Bansal</td>\n",
       "    </tr>\n",
       "    <tr>\n",
       "      <th>7</th>\n",
       "      <td>50</td>\n",
       "      <td>Female</td>\n",
       "      <td>Gandhinagar</td>\n",
       "      <td>Cooking</td>\n",
       "      <td>Rajeshwari Dave</td>\n",
       "      <td>Rajeshwari</td>\n",
       "      <td>Dave</td>\n",
       "    </tr>\n",
       "  </tbody>\n",
       "</table>\n",
       "</div>"
      ],
      "text/plain": [
       "   Age  Gender         City     Hobby         Full_name        Name Surname\n",
       "3   21  Female    Ahmedabad  Sleeping  Tanishqua Bansal   Tanishqua  Bansal\n",
       "5   24  Female  Gandhinagar   Mandala        Yatri Dave       Yatri    Dave\n",
       "4   21    Male  Gandhinagar    Gaming        Soham Dave       Soham    Dave\n",
       "6   52    Male  Gandhinagar   Driving       Manish Dave      Manish    Dave\n",
       "0   56    Male    Ahmedabad   Driving     Rajesh Bansal      Rajesh  Bansal\n",
       "2   25  Female         Pune   Dancing      Lamha Bansal       Lamha  Bansal\n",
       "1   49  Female    Ahmedabad   Cooking      Meetu Bansal       Meetu  Bansal\n",
       "7   50  Female  Gandhinagar   Cooking   Rajeshwari Dave  Rajeshwari    Dave"
      ]
     },
     "execution_count": 202,
     "metadata": {},
     "output_type": "execute_result"
    }
   ],
   "source": [
    "df.sort_values(by=['Hobby','Name'], ascending=[False, True], inplace=True)\n",
    "df"
   ]
  },
  {
   "cell_type": "code",
   "execution_count": 210,
   "id": "a9e4acaa-b9aa-459a-a787-ace3ceed3089",
   "metadata": {},
   "outputs": [],
   "source": [
    "df = df.sort_index()"
   ]
  },
  {
   "cell_type": "code",
   "execution_count": 211,
   "id": "a38b0b8b-9148-4371-9808-18bf60da544a",
   "metadata": {},
   "outputs": [
    {
     "data": {
      "text/html": [
       "<div>\n",
       "<style scoped>\n",
       "    .dataframe tbody tr th:only-of-type {\n",
       "        vertical-align: middle;\n",
       "    }\n",
       "\n",
       "    .dataframe tbody tr th {\n",
       "        vertical-align: top;\n",
       "    }\n",
       "\n",
       "    .dataframe thead th {\n",
       "        text-align: right;\n",
       "    }\n",
       "</style>\n",
       "<table border=\"1\" class=\"dataframe\">\n",
       "  <thead>\n",
       "    <tr style=\"text-align: right;\">\n",
       "      <th></th>\n",
       "      <th>Age</th>\n",
       "      <th>Gender</th>\n",
       "      <th>City</th>\n",
       "      <th>Hobby</th>\n",
       "      <th>Full_name</th>\n",
       "      <th>Name</th>\n",
       "      <th>Surname</th>\n",
       "      <th>Salary</th>\n",
       "    </tr>\n",
       "  </thead>\n",
       "  <tbody>\n",
       "    <tr>\n",
       "      <th>0</th>\n",
       "      <td>56</td>\n",
       "      <td>Male</td>\n",
       "      <td>Ahmedabad</td>\n",
       "      <td>Driving</td>\n",
       "      <td>Rajesh Bansal</td>\n",
       "      <td>Rajesh</td>\n",
       "      <td>Bansal</td>\n",
       "      <td>570000</td>\n",
       "    </tr>\n",
       "    <tr>\n",
       "      <th>6</th>\n",
       "      <td>52</td>\n",
       "      <td>Male</td>\n",
       "      <td>Gandhinagar</td>\n",
       "      <td>Driving</td>\n",
       "      <td>Manish Dave</td>\n",
       "      <td>Manish</td>\n",
       "      <td>Dave</td>\n",
       "      <td>560000</td>\n",
       "    </tr>\n",
       "  </tbody>\n",
       "</table>\n",
       "</div>"
      ],
      "text/plain": [
       "   Age Gender         City    Hobby      Full_name    Name Surname  Salary\n",
       "0   56   Male    Ahmedabad  Driving  Rajesh Bansal  Rajesh  Bansal  570000\n",
       "6   52   Male  Gandhinagar  Driving    Manish Dave  Manish    Dave  560000"
      ]
     },
     "execution_count": 211,
     "metadata": {},
     "output_type": "execute_result"
    }
   ],
   "source": [
    "df.nlargest(2, 'Age')"
   ]
  },
  {
   "cell_type": "code",
   "execution_count": 212,
   "id": "b9e126ed-ce6e-463c-b54e-1ae067aa3e3c",
   "metadata": {},
   "outputs": [
    {
     "data": {
      "text/html": [
       "<div>\n",
       "<style scoped>\n",
       "    .dataframe tbody tr th:only-of-type {\n",
       "        vertical-align: middle;\n",
       "    }\n",
       "\n",
       "    .dataframe tbody tr th {\n",
       "        vertical-align: top;\n",
       "    }\n",
       "\n",
       "    .dataframe thead th {\n",
       "        text-align: right;\n",
       "    }\n",
       "</style>\n",
       "<table border=\"1\" class=\"dataframe\">\n",
       "  <thead>\n",
       "    <tr style=\"text-align: right;\">\n",
       "      <th></th>\n",
       "      <th>Age</th>\n",
       "      <th>Gender</th>\n",
       "      <th>City</th>\n",
       "      <th>Hobby</th>\n",
       "      <th>Full_name</th>\n",
       "      <th>Name</th>\n",
       "      <th>Surname</th>\n",
       "      <th>Salary</th>\n",
       "    </tr>\n",
       "  </thead>\n",
       "  <tbody>\n",
       "    <tr>\n",
       "      <th>3</th>\n",
       "      <td>21</td>\n",
       "      <td>Female</td>\n",
       "      <td>Ahmedabad</td>\n",
       "      <td>Sleeping</td>\n",
       "      <td>Tanishqua Bansal</td>\n",
       "      <td>Tanishqua</td>\n",
       "      <td>Bansal</td>\n",
       "      <td>830000</td>\n",
       "    </tr>\n",
       "    <tr>\n",
       "      <th>4</th>\n",
       "      <td>21</td>\n",
       "      <td>Male</td>\n",
       "      <td>Gandhinagar</td>\n",
       "      <td>Gaming</td>\n",
       "      <td>Soham Dave</td>\n",
       "      <td>Soham</td>\n",
       "      <td>Dave</td>\n",
       "      <td>650000</td>\n",
       "    </tr>\n",
       "  </tbody>\n",
       "</table>\n",
       "</div>"
      ],
      "text/plain": [
       "   Age  Gender         City     Hobby         Full_name       Name Surname  \\\n",
       "3   21  Female    Ahmedabad  Sleeping  Tanishqua Bansal  Tanishqua  Bansal   \n",
       "4   21    Male  Gandhinagar    Gaming        Soham Dave      Soham    Dave   \n",
       "\n",
       "   Salary  \n",
       "3  830000  \n",
       "4  650000  "
      ]
     },
     "execution_count": 212,
     "metadata": {},
     "output_type": "execute_result"
    }
   ],
   "source": [
    "df.nsmallest(2, 'Age')"
   ]
  },
  {
   "cell_type": "markdown",
   "id": "2b58dd96-7fa0-4f39-9cef-8a357da076b3",
   "metadata": {},
   "source": [
    "# 8. Grouping and Aggregating"
   ]
  },
  {
   "cell_type": "code",
   "execution_count": 213,
   "id": "2522c0cf-74d3-4f59-a474-20097fe84490",
   "metadata": {},
   "outputs": [
    {
     "data": {
      "text/html": [
       "<div>\n",
       "<style scoped>\n",
       "    .dataframe tbody tr th:only-of-type {\n",
       "        vertical-align: middle;\n",
       "    }\n",
       "\n",
       "    .dataframe tbody tr th {\n",
       "        vertical-align: top;\n",
       "    }\n",
       "\n",
       "    .dataframe thead th {\n",
       "        text-align: right;\n",
       "    }\n",
       "</style>\n",
       "<table border=\"1\" class=\"dataframe\">\n",
       "  <thead>\n",
       "    <tr style=\"text-align: right;\">\n",
       "      <th></th>\n",
       "      <th>Age</th>\n",
       "      <th>Gender</th>\n",
       "      <th>City</th>\n",
       "      <th>Hobby</th>\n",
       "      <th>Full_name</th>\n",
       "      <th>Name</th>\n",
       "      <th>Surname</th>\n",
       "      <th>Salary</th>\n",
       "    </tr>\n",
       "  </thead>\n",
       "  <tbody>\n",
       "    <tr>\n",
       "      <th>0</th>\n",
       "      <td>56</td>\n",
       "      <td>Male</td>\n",
       "      <td>Ahmedabad</td>\n",
       "      <td>Driving</td>\n",
       "      <td>Rajesh Bansal</td>\n",
       "      <td>Rajesh</td>\n",
       "      <td>Bansal</td>\n",
       "      <td>830000</td>\n",
       "    </tr>\n",
       "    <tr>\n",
       "      <th>1</th>\n",
       "      <td>49</td>\n",
       "      <td>Female</td>\n",
       "      <td>Ahmedabad</td>\n",
       "      <td>Cooking</td>\n",
       "      <td>Meetu Bansal</td>\n",
       "      <td>Meetu</td>\n",
       "      <td>Bansal</td>\n",
       "      <td>740000</td>\n",
       "    </tr>\n",
       "    <tr>\n",
       "      <th>2</th>\n",
       "      <td>25</td>\n",
       "      <td>Female</td>\n",
       "      <td>Pune</td>\n",
       "      <td>Dancing</td>\n",
       "      <td>Lamha Bansal</td>\n",
       "      <td>Lamha</td>\n",
       "      <td>Bansal</td>\n",
       "      <td>650000</td>\n",
       "    </tr>\n",
       "    <tr>\n",
       "      <th>3</th>\n",
       "      <td>21</td>\n",
       "      <td>Female</td>\n",
       "      <td>Ahmedabad</td>\n",
       "      <td>Sleeping</td>\n",
       "      <td>Tanishqua Bansal</td>\n",
       "      <td>Tanishqua</td>\n",
       "      <td>Bansal</td>\n",
       "      <td>560000</td>\n",
       "    </tr>\n",
       "    <tr>\n",
       "      <th>4</th>\n",
       "      <td>21</td>\n",
       "      <td>Male</td>\n",
       "      <td>Gandhinagar</td>\n",
       "      <td>Gaming</td>\n",
       "      <td>Soham Dave</td>\n",
       "      <td>Soham</td>\n",
       "      <td>Dave</td>\n",
       "      <td>570000</td>\n",
       "    </tr>\n",
       "    <tr>\n",
       "      <th>5</th>\n",
       "      <td>24</td>\n",
       "      <td>Female</td>\n",
       "      <td>Gandhinagar</td>\n",
       "      <td>Mandala</td>\n",
       "      <td>Yatri Dave</td>\n",
       "      <td>Yatri</td>\n",
       "      <td>Dave</td>\n",
       "      <td>680000</td>\n",
       "    </tr>\n",
       "    <tr>\n",
       "      <th>6</th>\n",
       "      <td>52</td>\n",
       "      <td>Male</td>\n",
       "      <td>Gandhinagar</td>\n",
       "      <td>Driving</td>\n",
       "      <td>Manish Dave</td>\n",
       "      <td>Manish</td>\n",
       "      <td>Dave</td>\n",
       "      <td>790000</td>\n",
       "    </tr>\n",
       "    <tr>\n",
       "      <th>7</th>\n",
       "      <td>50</td>\n",
       "      <td>Female</td>\n",
       "      <td>Gandhinagar</td>\n",
       "      <td>Cooking</td>\n",
       "      <td>Rajeshwari Dave</td>\n",
       "      <td>Rajeshwari</td>\n",
       "      <td>Dave</td>\n",
       "      <td>810000</td>\n",
       "    </tr>\n",
       "  </tbody>\n",
       "</table>\n",
       "</div>"
      ],
      "text/plain": [
       "   Age  Gender         City     Hobby         Full_name        Name Surname  \\\n",
       "0   56    Male    Ahmedabad   Driving     Rajesh Bansal      Rajesh  Bansal   \n",
       "1   49  Female    Ahmedabad   Cooking      Meetu Bansal       Meetu  Bansal   \n",
       "2   25  Female         Pune   Dancing      Lamha Bansal       Lamha  Bansal   \n",
       "3   21  Female    Ahmedabad  Sleeping  Tanishqua Bansal   Tanishqua  Bansal   \n",
       "4   21    Male  Gandhinagar    Gaming        Soham Dave       Soham    Dave   \n",
       "5   24  Female  Gandhinagar   Mandala        Yatri Dave       Yatri    Dave   \n",
       "6   52    Male  Gandhinagar   Driving       Manish Dave      Manish    Dave   \n",
       "7   50  Female  Gandhinagar   Cooking   Rajeshwari Dave  Rajeshwari    Dave   \n",
       "\n",
       "   Salary  \n",
       "0  830000  \n",
       "1  740000  \n",
       "2  650000  \n",
       "3  560000  \n",
       "4  570000  \n",
       "5  680000  \n",
       "6  790000  \n",
       "7  810000  "
      ]
     },
     "execution_count": 213,
     "metadata": {},
     "output_type": "execute_result"
    }
   ],
   "source": [
    "df['Salary'] = [830000, 740000, 650000, 560000, 570000, 680000, 790000, 810000]\n",
    "df"
   ]
  },
  {
   "cell_type": "code",
   "execution_count": 214,
   "id": "a2607d65-cc4b-4338-a90f-77f2640cb375",
   "metadata": {},
   "outputs": [
    {
     "data": {
      "text/plain": [
       "710000.0"
      ]
     },
     "execution_count": 214,
     "metadata": {},
     "output_type": "execute_result"
    }
   ],
   "source": [
    "df['Salary'].median()"
   ]
  },
  {
   "cell_type": "code",
   "execution_count": 217,
   "id": "ba567302-5c26-44f3-8423-2e1860a67fae",
   "metadata": {},
   "outputs": [
    {
     "data": {
      "text/html": [
       "<div>\n",
       "<style scoped>\n",
       "    .dataframe tbody tr th:only-of-type {\n",
       "        vertical-align: middle;\n",
       "    }\n",
       "\n",
       "    .dataframe tbody tr th {\n",
       "        vertical-align: top;\n",
       "    }\n",
       "\n",
       "    .dataframe thead th {\n",
       "        text-align: right;\n",
       "    }\n",
       "</style>\n",
       "<table border=\"1\" class=\"dataframe\">\n",
       "  <thead>\n",
       "    <tr style=\"text-align: right;\">\n",
       "      <th></th>\n",
       "      <th>Age</th>\n",
       "      <th>Salary</th>\n",
       "    </tr>\n",
       "  </thead>\n",
       "  <tbody>\n",
       "    <tr>\n",
       "      <th>count</th>\n",
       "      <td>8.000000</td>\n",
       "      <td>8.000000</td>\n",
       "    </tr>\n",
       "    <tr>\n",
       "      <th>mean</th>\n",
       "      <td>37.250000</td>\n",
       "      <td>703750.000000</td>\n",
       "    </tr>\n",
       "    <tr>\n",
       "      <th>std</th>\n",
       "      <td>15.691217</td>\n",
       "      <td>105551.273932</td>\n",
       "    </tr>\n",
       "    <tr>\n",
       "      <th>min</th>\n",
       "      <td>21.000000</td>\n",
       "      <td>560000.000000</td>\n",
       "    </tr>\n",
       "    <tr>\n",
       "      <th>25%</th>\n",
       "      <td>23.250000</td>\n",
       "      <td>630000.000000</td>\n",
       "    </tr>\n",
       "    <tr>\n",
       "      <th>50%</th>\n",
       "      <td>37.000000</td>\n",
       "      <td>710000.000000</td>\n",
       "    </tr>\n",
       "    <tr>\n",
       "      <th>75%</th>\n",
       "      <td>50.500000</td>\n",
       "      <td>795000.000000</td>\n",
       "    </tr>\n",
       "    <tr>\n",
       "      <th>max</th>\n",
       "      <td>56.000000</td>\n",
       "      <td>830000.000000</td>\n",
       "    </tr>\n",
       "  </tbody>\n",
       "</table>\n",
       "</div>"
      ],
      "text/plain": [
       "             Age         Salary\n",
       "count   8.000000       8.000000\n",
       "mean   37.250000  703750.000000\n",
       "std    15.691217  105551.273932\n",
       "min    21.000000  560000.000000\n",
       "25%    23.250000  630000.000000\n",
       "50%    37.000000  710000.000000\n",
       "75%    50.500000  795000.000000\n",
       "max    56.000000  830000.000000"
      ]
     },
     "execution_count": 217,
     "metadata": {},
     "output_type": "execute_result"
    }
   ],
   "source": [
    "df.describe()"
   ]
  },
  {
   "cell_type": "code",
   "execution_count": 219,
   "id": "5ba842ce-12f4-4007-9942-1509b86e1fb4",
   "metadata": {},
   "outputs": [
    {
     "data": {
      "text/plain": [
       "8"
      ]
     },
     "execution_count": 219,
     "metadata": {},
     "output_type": "execute_result"
    }
   ],
   "source": [
    "df['Surname'].count()"
   ]
  },
  {
   "cell_type": "code",
   "execution_count": 221,
   "id": "564d11ba-4140-4071-80a8-2ae64648ebc5",
   "metadata": {},
   "outputs": [
    {
     "data": {
      "text/plain": [
       "City\n",
       "Gandhinagar    4\n",
       "Ahmedabad      3\n",
       "Pune           1\n",
       "Name: count, dtype: int64"
      ]
     },
     "execution_count": 221,
     "metadata": {},
     "output_type": "execute_result"
    }
   ],
   "source": [
    "df['City'].value_counts()"
   ]
  },
  {
   "cell_type": "code",
   "execution_count": 222,
   "id": "52b02c01-75e5-4b72-b982-07f9b99acc2e",
   "metadata": {},
   "outputs": [],
   "source": [
    "families = df.groupby('Surname')"
   ]
  },
  {
   "cell_type": "code",
   "execution_count": 225,
   "id": "58ae0eb6-9ba4-4d8b-a4be-383ad0f52609",
   "metadata": {},
   "outputs": [
    {
     "data": {
      "text/plain": [
       "Surname\n",
       "Bansal    695000.0\n",
       "Dave      712500.0\n",
       "Name: Salary, dtype: float64"
      ]
     },
     "execution_count": 225,
     "metadata": {},
     "output_type": "execute_result"
    }
   ],
   "source": [
    "families['Salary'].mean()"
   ]
  },
  {
   "cell_type": "code",
   "execution_count": 226,
   "id": "e61142e7-b5ff-45e3-858c-626e2398d4ad",
   "metadata": {},
   "outputs": [
    {
     "data": {
      "text/html": [
       "<div>\n",
       "<style scoped>\n",
       "    .dataframe tbody tr th:only-of-type {\n",
       "        vertical-align: middle;\n",
       "    }\n",
       "\n",
       "    .dataframe tbody tr th {\n",
       "        vertical-align: top;\n",
       "    }\n",
       "\n",
       "    .dataframe thead th {\n",
       "        text-align: right;\n",
       "    }\n",
       "</style>\n",
       "<table border=\"1\" class=\"dataframe\">\n",
       "  <thead>\n",
       "    <tr style=\"text-align: right;\">\n",
       "      <th></th>\n",
       "      <th>mean</th>\n",
       "      <th>median</th>\n",
       "      <th>count</th>\n",
       "    </tr>\n",
       "    <tr>\n",
       "      <th>Surname</th>\n",
       "      <th></th>\n",
       "      <th></th>\n",
       "      <th></th>\n",
       "    </tr>\n",
       "  </thead>\n",
       "  <tbody>\n",
       "    <tr>\n",
       "      <th>Bansal</th>\n",
       "      <td>695000.0</td>\n",
       "      <td>695000.0</td>\n",
       "      <td>4</td>\n",
       "    </tr>\n",
       "    <tr>\n",
       "      <th>Dave</th>\n",
       "      <td>712500.0</td>\n",
       "      <td>735000.0</td>\n",
       "      <td>4</td>\n",
       "    </tr>\n",
       "  </tbody>\n",
       "</table>\n",
       "</div>"
      ],
      "text/plain": [
       "             mean    median  count\n",
       "Surname                           \n",
       "Bansal   695000.0  695000.0      4\n",
       "Dave     712500.0  735000.0      4"
      ]
     },
     "execution_count": 226,
     "metadata": {},
     "output_type": "execute_result"
    }
   ],
   "source": [
    "families['Salary'].agg(['mean', 'median', 'count'])"
   ]
  },
  {
   "cell_type": "code",
   "execution_count": 227,
   "id": "2c4122d8-253b-4e08-9192-fc02f7901b12",
   "metadata": {},
   "outputs": [],
   "source": [
    "# For more details of grouping please refer -> Stackoverflow_Survey.ipynb"
   ]
  },
  {
   "cell_type": "markdown",
   "id": "8503bbba-89c9-4d3b-a16f-3203fe007d58",
   "metadata": {},
   "source": [
    "# 9. Cleaning Data"
   ]
  },
  {
   "cell_type": "code",
   "execution_count": 228,
   "id": "d4cd6a3a-9b6b-40e4-a7d4-6f28d3bab32a",
   "metadata": {},
   "outputs": [],
   "source": [
    "import numpy as np"
   ]
  },
  {
   "cell_type": "code",
   "execution_count": 236,
   "id": "58e41e02-dc28-4753-873a-aa9c89046b38",
   "metadata": {},
   "outputs": [],
   "source": [
    "missing_data = {\n",
    "    'Name': ['Rajesh','Meetu', 'NA','Tanishqua', 'Soham'],\n",
    "    'Age': [56, 49, 24, 21, 21],\n",
    "    'Gender': ['Male', 'Female', 'NA', 'Female', 'Missing'],\n",
    "    'City': ['Ahmedabad', 'Missing', 'Missing', 'Ahmedabad', np.nan],\n",
    "    'Hobby': ['Driving', None, 'Dancing', None, 'Gaming']\n",
    "}"
   ]
  },
  {
   "cell_type": "code",
   "execution_count": 237,
   "id": "f8bf9482-ca8a-4881-97aa-b56bad390a9e",
   "metadata": {},
   "outputs": [
    {
     "data": {
      "text/html": [
       "<div>\n",
       "<style scoped>\n",
       "    .dataframe tbody tr th:only-of-type {\n",
       "        vertical-align: middle;\n",
       "    }\n",
       "\n",
       "    .dataframe tbody tr th {\n",
       "        vertical-align: top;\n",
       "    }\n",
       "\n",
       "    .dataframe thead th {\n",
       "        text-align: right;\n",
       "    }\n",
       "</style>\n",
       "<table border=\"1\" class=\"dataframe\">\n",
       "  <thead>\n",
       "    <tr style=\"text-align: right;\">\n",
       "      <th></th>\n",
       "      <th>Name</th>\n",
       "      <th>Age</th>\n",
       "      <th>Gender</th>\n",
       "      <th>City</th>\n",
       "      <th>Hobby</th>\n",
       "    </tr>\n",
       "  </thead>\n",
       "  <tbody>\n",
       "    <tr>\n",
       "      <th>0</th>\n",
       "      <td>Rajesh</td>\n",
       "      <td>56</td>\n",
       "      <td>Male</td>\n",
       "      <td>Ahmedabad</td>\n",
       "      <td>Driving</td>\n",
       "    </tr>\n",
       "    <tr>\n",
       "      <th>1</th>\n",
       "      <td>Meetu</td>\n",
       "      <td>49</td>\n",
       "      <td>Female</td>\n",
       "      <td>Missing</td>\n",
       "      <td>None</td>\n",
       "    </tr>\n",
       "    <tr>\n",
       "      <th>2</th>\n",
       "      <td>NA</td>\n",
       "      <td>24</td>\n",
       "      <td>NA</td>\n",
       "      <td>Missing</td>\n",
       "      <td>Dancing</td>\n",
       "    </tr>\n",
       "    <tr>\n",
       "      <th>3</th>\n",
       "      <td>Tanishqua</td>\n",
       "      <td>21</td>\n",
       "      <td>Female</td>\n",
       "      <td>Ahmedabad</td>\n",
       "      <td>None</td>\n",
       "    </tr>\n",
       "    <tr>\n",
       "      <th>4</th>\n",
       "      <td>Soham</td>\n",
       "      <td>21</td>\n",
       "      <td>Missing</td>\n",
       "      <td>NaN</td>\n",
       "      <td>Gaming</td>\n",
       "    </tr>\n",
       "  </tbody>\n",
       "</table>\n",
       "</div>"
      ],
      "text/plain": [
       "        Name  Age   Gender       City    Hobby\n",
       "0     Rajesh   56     Male  Ahmedabad  Driving\n",
       "1      Meetu   49   Female    Missing     None\n",
       "2         NA   24       NA    Missing  Dancing\n",
       "3  Tanishqua   21   Female  Ahmedabad     None\n",
       "4      Soham   21  Missing        NaN   Gaming"
      ]
     },
     "execution_count": 237,
     "metadata": {},
     "output_type": "execute_result"
    }
   ],
   "source": [
    "missing_df = pd.DataFrame(missing_data)\n",
    "missing_df"
   ]
  },
  {
   "cell_type": "code",
   "execution_count": 238,
   "id": "19ff4e97-ee7b-4502-928d-594b2af38857",
   "metadata": {},
   "outputs": [
    {
     "data": {
      "text/html": [
       "<div>\n",
       "<style scoped>\n",
       "    .dataframe tbody tr th:only-of-type {\n",
       "        vertical-align: middle;\n",
       "    }\n",
       "\n",
       "    .dataframe tbody tr th {\n",
       "        vertical-align: top;\n",
       "    }\n",
       "\n",
       "    .dataframe thead th {\n",
       "        text-align: right;\n",
       "    }\n",
       "</style>\n",
       "<table border=\"1\" class=\"dataframe\">\n",
       "  <thead>\n",
       "    <tr style=\"text-align: right;\">\n",
       "      <th></th>\n",
       "      <th>Name</th>\n",
       "      <th>Age</th>\n",
       "      <th>Gender</th>\n",
       "      <th>City</th>\n",
       "      <th>Hobby</th>\n",
       "    </tr>\n",
       "  </thead>\n",
       "  <tbody>\n",
       "    <tr>\n",
       "      <th>0</th>\n",
       "      <td>Rajesh</td>\n",
       "      <td>56</td>\n",
       "      <td>Male</td>\n",
       "      <td>Ahmedabad</td>\n",
       "      <td>Driving</td>\n",
       "    </tr>\n",
       "    <tr>\n",
       "      <th>2</th>\n",
       "      <td>NA</td>\n",
       "      <td>24</td>\n",
       "      <td>NA</td>\n",
       "      <td>Missing</td>\n",
       "      <td>Dancing</td>\n",
       "    </tr>\n",
       "  </tbody>\n",
       "</table>\n",
       "</div>"
      ],
      "text/plain": [
       "     Name  Age Gender       City    Hobby\n",
       "0  Rajesh   56   Male  Ahmedabad  Driving\n",
       "2      NA   24     NA    Missing  Dancing"
      ]
     },
     "execution_count": 238,
     "metadata": {},
     "output_type": "execute_result"
    }
   ],
   "source": [
    "missing_df.dropna()"
   ]
  },
  {
   "cell_type": "code",
   "execution_count": 239,
   "id": "497a9468-7aed-4351-b9d5-611e18e754c1",
   "metadata": {},
   "outputs": [
    {
     "data": {
      "text/html": [
       "<div>\n",
       "<style scoped>\n",
       "    .dataframe tbody tr th:only-of-type {\n",
       "        vertical-align: middle;\n",
       "    }\n",
       "\n",
       "    .dataframe tbody tr th {\n",
       "        vertical-align: top;\n",
       "    }\n",
       "\n",
       "    .dataframe thead th {\n",
       "        text-align: right;\n",
       "    }\n",
       "</style>\n",
       "<table border=\"1\" class=\"dataframe\">\n",
       "  <thead>\n",
       "    <tr style=\"text-align: right;\">\n",
       "      <th></th>\n",
       "      <th>Name</th>\n",
       "      <th>Age</th>\n",
       "      <th>Gender</th>\n",
       "      <th>City</th>\n",
       "      <th>Hobby</th>\n",
       "    </tr>\n",
       "  </thead>\n",
       "  <tbody>\n",
       "    <tr>\n",
       "      <th>0</th>\n",
       "      <td>Rajesh</td>\n",
       "      <td>56</td>\n",
       "      <td>Male</td>\n",
       "      <td>Ahmedabad</td>\n",
       "      <td>Driving</td>\n",
       "    </tr>\n",
       "    <tr>\n",
       "      <th>2</th>\n",
       "      <td>NA</td>\n",
       "      <td>24</td>\n",
       "      <td>NA</td>\n",
       "      <td>Missing</td>\n",
       "      <td>Dancing</td>\n",
       "    </tr>\n",
       "  </tbody>\n",
       "</table>\n",
       "</div>"
      ],
      "text/plain": [
       "     Name  Age Gender       City    Hobby\n",
       "0  Rajesh   56   Male  Ahmedabad  Driving\n",
       "2      NA   24     NA    Missing  Dancing"
      ]
     },
     "execution_count": 239,
     "metadata": {},
     "output_type": "execute_result"
    }
   ],
   "source": [
    "missing_df.dropna(axis='index', how='any')"
   ]
  },
  {
   "cell_type": "code",
   "execution_count": 240,
   "id": "a9844344-4596-4f3a-8f4b-73d35419245f",
   "metadata": {},
   "outputs": [],
   "source": [
    "# Resume from here tomorrow -> https://www.youtube.com/watch?v=KdmPHEnPJPs&list=PL-osiE80TeTsWmV9i9c58mdDCSskIFdDS&index=9"
   ]
  }
 ],
 "metadata": {
  "kernelspec": {
   "display_name": "Python 3 (ipykernel)",
   "language": "python",
   "name": "python3"
  },
  "language_info": {
   "codemirror_mode": {
    "name": "ipython",
    "version": 3
   },
   "file_extension": ".py",
   "mimetype": "text/x-python",
   "name": "python",
   "nbconvert_exporter": "python",
   "pygments_lexer": "ipython3",
   "version": "3.8.10"
  }
 },
 "nbformat": 4,
 "nbformat_minor": 5
}
